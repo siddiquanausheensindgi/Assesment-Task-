{
 "cells": [
  {
   "cell_type": "code",
   "execution_count": 1,
   "metadata": {},
   "outputs": [],
   "source": [
    "import pandas as pd\n",
    "import numpy as np\n",
    "import matplotlib.pyplot as plt\n",
    "import seaborn as sns\n",
    "%matplotlib inline"
   ]
  },
  {
   "cell_type": "code",
   "execution_count": 2,
   "metadata": {},
   "outputs": [],
   "source": [
    "df1 = pd.read_excel(\"Data - Part 1.xlsx\",index_col=0)"
   ]
  },
  {
   "cell_type": "code",
   "execution_count": 3,
   "metadata": {},
   "outputs": [
    {
     "data": {
      "text/html": [
       "<div>\n",
       "<style scoped>\n",
       "    .dataframe tbody tr th:only-of-type {\n",
       "        vertical-align: middle;\n",
       "    }\n",
       "\n",
       "    .dataframe tbody tr th {\n",
       "        vertical-align: top;\n",
       "    }\n",
       "\n",
       "    .dataframe thead th {\n",
       "        text-align: right;\n",
       "    }\n",
       "</style>\n",
       "<table border=\"1\" class=\"dataframe\">\n",
       "  <thead>\n",
       "    <tr style=\"text-align: right;\">\n",
       "      <th></th>\n",
       "      <th>Month Number</th>\n",
       "      <th>Year</th>\n",
       "      <th>Industry</th>\n",
       "      <th>Country</th>\n",
       "      <th>Customer Sub-Industry</th>\n",
       "      <th>Customer ID</th>\n",
       "      <th>Product ID</th>\n",
       "      <th>Total Cost Amount $</th>\n",
       "      <th>Total Revenue Amount $</th>\n",
       "    </tr>\n",
       "  </thead>\n",
       "  <tbody>\n",
       "    <tr>\n",
       "      <th>0</th>\n",
       "      <td>2.0</td>\n",
       "      <td>2020</td>\n",
       "      <td>Banking</td>\n",
       "      <td>United Kingdom</td>\n",
       "      <td>Financial: Banking Major</td>\n",
       "      <td>13167FR</td>\n",
       "      <td>6627.0</td>\n",
       "      <td>415049.0279</td>\n",
       "      <td>194768.5772</td>\n",
       "    </tr>\n",
       "    <tr>\n",
       "      <th>1</th>\n",
       "      <td>8.0</td>\n",
       "      <td>2020</td>\n",
       "      <td>Banking</td>\n",
       "      <td>Australia</td>\n",
       "      <td>Financial: Banking Maj</td>\n",
       "      <td>10009SG</td>\n",
       "      <td>5801.0</td>\n",
       "      <td>0.0000</td>\n",
       "      <td>-5778.3752</td>\n",
       "    </tr>\n",
       "    <tr>\n",
       "      <th>2</th>\n",
       "      <td>8.0</td>\n",
       "      <td>2020</td>\n",
       "      <td>Retail</td>\n",
       "      <td>United Kingdom</td>\n",
       "      <td>Retail: Food and Mass</td>\n",
       "      <td>50148141DE</td>\n",
       "      <td>5907.0</td>\n",
       "      <td>5341.6700</td>\n",
       "      <td>0.0000</td>\n",
       "    </tr>\n",
       "    <tr>\n",
       "      <th>3</th>\n",
       "      <td>9.0</td>\n",
       "      <td>2020</td>\n",
       "      <td>Hospitality</td>\n",
       "      <td>America</td>\n",
       "      <td>Hospitality:Eating Drinking QS</td>\n",
       "      <td>7392863</td>\n",
       "      <td>1639.0</td>\n",
       "      <td>2.8900</td>\n",
       "      <td>0.0000</td>\n",
       "    </tr>\n",
       "    <tr>\n",
       "      <th>4</th>\n",
       "      <td>9.0</td>\n",
       "      <td>2020</td>\n",
       "      <td>Hospitality</td>\n",
       "      <td>United States</td>\n",
       "      <td>Hospitality:Eating Drinking TS</td>\n",
       "      <td>8568866</td>\n",
       "      <td>1612.0</td>\n",
       "      <td>11188.2000</td>\n",
       "      <td>9816.0000</td>\n",
       "    </tr>\n",
       "  </tbody>\n",
       "</table>\n",
       "</div>"
      ],
      "text/plain": [
       "   Month Number  Year     Industry         Country  \\\n",
       "0           2.0  2020      Banking  United Kingdom   \n",
       "1           8.0  2020      Banking       Australia   \n",
       "2           8.0  2020       Retail  United Kingdom   \n",
       "3           9.0  2020  Hospitality         America   \n",
       "4           9.0  2020  Hospitality   United States   \n",
       "\n",
       "            Customer Sub-Industry Customer ID  Product ID  \\\n",
       "0        Financial: Banking Major     13167FR      6627.0   \n",
       "1          Financial: Banking Maj     10009SG      5801.0   \n",
       "2           Retail: Food and Mass  50148141DE      5907.0   \n",
       "3  Hospitality:Eating Drinking QS     7392863      1639.0   \n",
       "4  Hospitality:Eating Drinking TS     8568866      1612.0   \n",
       "\n",
       "   Total Cost Amount $  Total Revenue Amount $  \n",
       "0          415049.0279             194768.5772  \n",
       "1               0.0000              -5778.3752  \n",
       "2            5341.6700                  0.0000  \n",
       "3               2.8900                  0.0000  \n",
       "4           11188.2000               9816.0000  "
      ]
     },
     "execution_count": 3,
     "metadata": {},
     "output_type": "execute_result"
    }
   ],
   "source": [
    "df1.head()"
   ]
  },
  {
   "cell_type": "code",
   "execution_count": 4,
   "metadata": {},
   "outputs": [
    {
     "data": {
      "text/plain": [
       "(2341, 9)"
      ]
     },
     "execution_count": 4,
     "metadata": {},
     "output_type": "execute_result"
    }
   ],
   "source": [
    "df1.shape"
   ]
  },
  {
   "cell_type": "code",
   "execution_count": 5,
   "metadata": {
    "scrolled": true
   },
   "outputs": [
    {
     "data": {
      "text/plain": [
       "Month Number              6\n",
       "Year                      0\n",
       "Industry                  2\n",
       "Country                   4\n",
       "Customer Sub-Industry     1\n",
       "Customer ID               9\n",
       "Product ID                7\n",
       "Total Cost Amount $       6\n",
       "Total Revenue Amount $    6\n",
       "dtype: int64"
      ]
     },
     "execution_count": 5,
     "metadata": {},
     "output_type": "execute_result"
    }
   ],
   "source": [
    "df1.isna().sum() #check null values"
   ]
  },
  {
   "cell_type": "code",
   "execution_count": 6,
   "metadata": {},
   "outputs": [],
   "source": [
    "df1.dropna(inplace=True)# drop null values"
   ]
  },
  {
   "cell_type": "code",
   "execution_count": 7,
   "metadata": {},
   "outputs": [
    {
     "data": {
      "text/plain": [
       "Index(['Month Number', 'Year', 'Industry', 'Country', 'Customer Sub-Industry',\n",
       "       'Customer ID', 'Product ID', 'Total Cost Amount $',\n",
       "       'Total Revenue Amount $'],\n",
       "      dtype='object')"
      ]
     },
     "execution_count": 7,
     "metadata": {},
     "output_type": "execute_result"
    }
   ],
   "source": [
    "df1.columns"
   ]
  },
  {
   "cell_type": "code",
   "execution_count": 8,
   "metadata": {},
   "outputs": [
    {
     "data": {
      "text/plain": [
       "array(['United Kingdom', 'Australia', 'America', 'United States',\n",
       "       'United Arab Emirates', 'China', 'UK', 'United states', 'UAE',\n",
       "       'USA', 'CHINA', 'Italy', 'US', 'Australi'], dtype=object)"
      ]
     },
     "execution_count": 8,
     "metadata": {},
     "output_type": "execute_result"
    }
   ],
   "source": [
    "df1['Country'].unique()"
   ]
  },
  {
   "cell_type": "code",
   "execution_count": 9,
   "metadata": {},
   "outputs": [],
   "source": [
    "df1['Country'].replace(['United Kingdom', 'UK'], 'UK',inplace=True)\n",
    "df1['Country'].replace(['America', 'United States','United states','USA','US'], 'US',inplace=True)\n",
    "df1['Country'].replace(['Australia', 'Australi'], 'Australia',inplace=True)\n",
    "df1['Country'].replace(['China','CHINA'], 'CHINA',inplace=True)\n",
    "df1['Country'].replace(['United Arab Emirates','UAE'], 'UAE',inplace=True)"
   ]
  },
  {
   "cell_type": "code",
   "execution_count": 10,
   "metadata": {},
   "outputs": [
    {
     "data": {
      "text/plain": [
       "array(['UK', 'Australia', 'US', 'UAE', 'CHINA', 'Italy'], dtype=object)"
      ]
     },
     "execution_count": 10,
     "metadata": {},
     "output_type": "execute_result"
    }
   ],
   "source": [
    "df1['Country'].unique()"
   ]
  },
  {
   "cell_type": "code",
   "execution_count": 11,
   "metadata": {},
   "outputs": [
    {
     "data": {
      "text/plain": [
       "array(['Banking', 'Retail', 'Hospitality', 'banking', 'Rtail', 'Bank',\n",
       "       'Hosp', 'RETAIL', 'Ret', 'Retai'], dtype=object)"
      ]
     },
     "execution_count": 11,
     "metadata": {},
     "output_type": "execute_result"
    }
   ],
   "source": [
    "df1['Industry'].unique()"
   ]
  },
  {
   "cell_type": "code",
   "execution_count": 12,
   "metadata": {},
   "outputs": [],
   "source": [
    "df1['Industry'].replace(['Banking','banking','Bank',], 'Banking',inplace=True)\n",
    "df1['Industry'].replace(['Retail','Rtail','RETAIL', 'Ret','Retai'], 'Retail',inplace=True)\n",
    "df1['Industry'].replace(['Hospitality','Hosp'], 'Hospitality',inplace=True)"
   ]
  },
  {
   "cell_type": "code",
   "execution_count": 13,
   "metadata": {},
   "outputs": [
    {
     "data": {
      "text/plain": [
       "array(['Banking', 'Retail', 'Hospitality'], dtype=object)"
      ]
     },
     "execution_count": 13,
     "metadata": {},
     "output_type": "execute_result"
    }
   ],
   "source": [
    "df1['Industry'].unique()"
   ]
  },
  {
   "cell_type": "code",
   "execution_count": 14,
   "metadata": {},
   "outputs": [
    {
     "data": {
      "text/plain": [
       "array(['Financial: Banking Major', 'Financial: Banking Maj',\n",
       "       'Retail: Food and Mass', 'Hospitality:Eating Drinking QS',\n",
       "       'Hospitality:Eating Drinking TS', 'Financial: Banking CFI',\n",
       "       'Financial: Other Financial Services',\n",
       "       'Retail: Dept and Specialty', 'Retail: Distribution-Wholesale',\n",
       "       'Retail: Petroleum-Convenience', 'retail: Food and Mass',\n",
       "       'Financial: Channel', 'Retail: Channel', 'Hosp:Eating Drinking QS',\n",
       "       'Banking CFI', 'Retail: Drug'], dtype=object)"
      ]
     },
     "execution_count": 14,
     "metadata": {},
     "output_type": "execute_result"
    }
   ],
   "source": [
    "df1['Customer Sub-Industry'].unique()"
   ]
  },
  {
   "cell_type": "code",
   "execution_count": 15,
   "metadata": {},
   "outputs": [],
   "source": [
    "df1['Customer Sub-Industry'].replace(['Financial: Banking Major', 'Financial: Banking Maj'], 'Financial: Banking Major',inplace=True)\n",
    "df1['Customer Sub-Industry'].replace(['Retail: Food and Mass','retail: Food and Mass'], 'Retail: Food and Mass',inplace=True)\n",
    "df1['Customer Sub-Industry'].replace(['Financial: Banking CFI','Banking CFI'], 'Financial: Banking CFI',inplace=True)\n",
    "df1['Customer Sub-Industry'].replace(['Hospitality:Eating Drinking QS','Hosp:Eating Drinking QS','Hospitality:Eating Drinking TS'], 'Hospitality:Eating Drinking QS',inplace=True)"
   ]
  },
  {
   "cell_type": "code",
   "execution_count": 16,
   "metadata": {},
   "outputs": [
    {
     "data": {
      "text/plain": [
       "array(['Financial: Banking Major', 'Retail: Food and Mass',\n",
       "       'Hospitality:Eating Drinking QS', 'Financial: Banking CFI',\n",
       "       'Financial: Other Financial Services',\n",
       "       'Retail: Dept and Specialty', 'Retail: Distribution-Wholesale',\n",
       "       'Retail: Petroleum-Convenience', 'Financial: Channel',\n",
       "       'Retail: Channel', 'Retail: Drug'], dtype=object)"
      ]
     },
     "execution_count": 16,
     "metadata": {},
     "output_type": "execute_result"
    }
   ],
   "source": [
    "df1['Customer Sub-Industry'].unique()"
   ]
  },
  {
   "cell_type": "code",
   "execution_count": 17,
   "metadata": {},
   "outputs": [],
   "source": [
    "# 1.\tHow much revenue did we get from customers in the Unites States in each quarter? "
   ]
  },
  {
   "cell_type": "code",
   "execution_count": 18,
   "metadata": {},
   "outputs": [],
   "source": [
    "df1['Month Number'] = df1['Month Number'].astype('int')"
   ]
  },
  {
   "cell_type": "code",
   "execution_count": 19,
   "metadata": {},
   "outputs": [
    {
     "name": "stdout",
     "output_type": "stream",
     "text": [
      "Unites States revenue for Q1 7398995.799999999\n",
      "Unites States revenue for Q2 8228900.21\n",
      "Unites States revenue for Q3 20006483.306900002\n",
      "Unites States revenue for Q4 3893980.2523000007\n"
     ]
    }
   ],
   "source": [
    "print(\"Unites States revenue for Q1\",df1[(df1['Country'] == 'US') & (df1['Month Number'] > 0) & (df1['Month Number'] <= 3)]['Total Revenue Amount $'].sum())\n",
    "print(\"Unites States revenue for Q2\",df1[(df1['Country'] == 'US') & (df1['Month Number'] > 3) & (df1['Month Number'] <= 6)]['Total Revenue Amount $'].sum())\n",
    "print(\"Unites States revenue for Q3\",df1[(df1['Country'] == 'US') & (df1['Month Number'] > 6) & (df1['Month Number'] <= 9)]['Total Revenue Amount $'].sum())\n",
    "print(\"Unites States revenue for Q4\",df1[(df1['Country'] == 'US') & (df1['Month Number'] > 9) & (df1['Month Number'] <= 12)]['Total Revenue Amount $'].sum())"
   ]
  },
  {
   "cell_type": "code",
   "execution_count": 20,
   "metadata": {},
   "outputs": [],
   "source": [
    "temp1 = df1[['Industry', 'Country', 'Customer Sub-Industry', 'Total Cost Amount $',\n",
    "       'Total Revenue Amount $']]"
   ]
  },
  {
   "cell_type": "code",
   "execution_count": 21,
   "metadata": {},
   "outputs": [],
   "source": [
    "temp1 = temp1.groupby(['Country','Industry','Customer Sub-Industry'])[['Total Cost Amount $','Total Revenue Amount $']].sum()"
   ]
  },
  {
   "cell_type": "code",
   "execution_count": 22,
   "metadata": {
    "scrolled": true
   },
   "outputs": [
    {
     "data": {
      "text/html": [
       "<div>\n",
       "<style scoped>\n",
       "    .dataframe tbody tr th:only-of-type {\n",
       "        vertical-align: middle;\n",
       "    }\n",
       "\n",
       "    .dataframe tbody tr th {\n",
       "        vertical-align: top;\n",
       "    }\n",
       "\n",
       "    .dataframe thead th {\n",
       "        text-align: right;\n",
       "    }\n",
       "</style>\n",
       "<table border=\"1\" class=\"dataframe\">\n",
       "  <thead>\n",
       "    <tr style=\"text-align: right;\">\n",
       "      <th></th>\n",
       "      <th></th>\n",
       "      <th></th>\n",
       "      <th>Total Cost Amount $</th>\n",
       "      <th>Total Revenue Amount $</th>\n",
       "    </tr>\n",
       "    <tr>\n",
       "      <th>Country</th>\n",
       "      <th>Industry</th>\n",
       "      <th>Customer Sub-Industry</th>\n",
       "      <th></th>\n",
       "      <th></th>\n",
       "    </tr>\n",
       "  </thead>\n",
       "  <tbody>\n",
       "    <tr>\n",
       "      <th rowspan=\"4\" valign=\"top\">Australia</th>\n",
       "      <th rowspan=\"2\" valign=\"top\">Banking</th>\n",
       "      <th>Financial: Banking CFI</th>\n",
       "      <td>1.934528e+06</td>\n",
       "      <td>5.899881e+05</td>\n",
       "    </tr>\n",
       "    <tr>\n",
       "      <th>Financial: Banking Major</th>\n",
       "      <td>1.665481e+07</td>\n",
       "      <td>6.267364e+06</td>\n",
       "    </tr>\n",
       "    <tr>\n",
       "      <th rowspan=\"2\" valign=\"top\">Retail</th>\n",
       "      <th>Retail: Dept and Specialty</th>\n",
       "      <td>3.355475e+05</td>\n",
       "      <td>7.985030e+05</td>\n",
       "    </tr>\n",
       "    <tr>\n",
       "      <th>Retail: Food and Mass</th>\n",
       "      <td>1.137560e+06</td>\n",
       "      <td>4.280640e+06</td>\n",
       "    </tr>\n",
       "    <tr>\n",
       "      <th rowspan=\"5\" valign=\"top\">CHINA</th>\n",
       "      <th>Banking</th>\n",
       "      <th>Financial: Banking Major</th>\n",
       "      <td>9.811106e+05</td>\n",
       "      <td>8.686898e+05</td>\n",
       "    </tr>\n",
       "    <tr>\n",
       "      <th rowspan=\"4\" valign=\"top\">Retail</th>\n",
       "      <th>Financial: Banking Major</th>\n",
       "      <td>0.000000e+00</td>\n",
       "      <td>5.728564e+03</td>\n",
       "    </tr>\n",
       "    <tr>\n",
       "      <th>Retail: Dept and Specialty</th>\n",
       "      <td>2.132711e+05</td>\n",
       "      <td>1.871721e+05</td>\n",
       "    </tr>\n",
       "    <tr>\n",
       "      <th>Retail: Food and Mass</th>\n",
       "      <td>1.185699e+06</td>\n",
       "      <td>7.256590e+05</td>\n",
       "    </tr>\n",
       "    <tr>\n",
       "      <th>Retail: Petroleum-Convenience</th>\n",
       "      <td>7.078201e+03</td>\n",
       "      <td>8.074939e+03</td>\n",
       "    </tr>\n",
       "    <tr>\n",
       "      <th>Italy</th>\n",
       "      <th>Banking</th>\n",
       "      <th>Financial: Channel</th>\n",
       "      <td>2.773338e+06</td>\n",
       "      <td>3.407058e+06</td>\n",
       "    </tr>\n",
       "    <tr>\n",
       "      <th rowspan=\"2\" valign=\"top\">UAE</th>\n",
       "      <th rowspan=\"2\" valign=\"top\">Banking</th>\n",
       "      <th>Financial: Banking CFI</th>\n",
       "      <td>1.212709e+07</td>\n",
       "      <td>6.326465e+06</td>\n",
       "    </tr>\n",
       "    <tr>\n",
       "      <th>Financial: Banking Major</th>\n",
       "      <td>5.296632e+07</td>\n",
       "      <td>1.895083e+07</td>\n",
       "    </tr>\n",
       "    <tr>\n",
       "      <th rowspan=\"9\" valign=\"top\">UK</th>\n",
       "      <th rowspan=\"4\" valign=\"top\">Banking</th>\n",
       "      <th>Financial: Banking CFI</th>\n",
       "      <td>1.354658e+06</td>\n",
       "      <td>7.056803e+05</td>\n",
       "    </tr>\n",
       "    <tr>\n",
       "      <th>Financial: Banking Major</th>\n",
       "      <td>6.297941e+07</td>\n",
       "      <td>2.329999e+07</td>\n",
       "    </tr>\n",
       "    <tr>\n",
       "      <th>Financial: Other Financial Services</th>\n",
       "      <td>1.718376e+06</td>\n",
       "      <td>1.283437e+06</td>\n",
       "    </tr>\n",
       "    <tr>\n",
       "      <th>Retail: Dept and Specialty</th>\n",
       "      <td>4.004562e+04</td>\n",
       "      <td>2.817092e+04</td>\n",
       "    </tr>\n",
       "    <tr>\n",
       "      <th>Hospitality</th>\n",
       "      <th>Hospitality:Eating Drinking QS</th>\n",
       "      <td>9.923711e+04</td>\n",
       "      <td>8.856356e+04</td>\n",
       "    </tr>\n",
       "    <tr>\n",
       "      <th rowspan=\"4\" valign=\"top\">Retail</th>\n",
       "      <th>Retail: Channel</th>\n",
       "      <td>2.286726e+04</td>\n",
       "      <td>2.268437e+04</td>\n",
       "    </tr>\n",
       "    <tr>\n",
       "      <th>Retail: Dept and Specialty</th>\n",
       "      <td>1.286778e+06</td>\n",
       "      <td>8.552565e+05</td>\n",
       "    </tr>\n",
       "    <tr>\n",
       "      <th>Retail: Distribution-Wholesale</th>\n",
       "      <td>3.368341e+06</td>\n",
       "      <td>2.146429e+06</td>\n",
       "    </tr>\n",
       "    <tr>\n",
       "      <th>Retail: Food and Mass</th>\n",
       "      <td>1.363223e+07</td>\n",
       "      <td>8.907398e+06</td>\n",
       "    </tr>\n",
       "    <tr>\n",
       "      <th rowspan=\"7\" valign=\"top\">US</th>\n",
       "      <th rowspan=\"2\" valign=\"top\">Banking</th>\n",
       "      <th>Financial: Banking CFI</th>\n",
       "      <td>3.997245e+04</td>\n",
       "      <td>1.129289e+05</td>\n",
       "    </tr>\n",
       "    <tr>\n",
       "      <th>Financial: Banking Major</th>\n",
       "      <td>8.282595e+06</td>\n",
       "      <td>1.331056e+07</td>\n",
       "    </tr>\n",
       "    <tr>\n",
       "      <th>Hospitality</th>\n",
       "      <th>Hospitality:Eating Drinking QS</th>\n",
       "      <td>8.777764e+06</td>\n",
       "      <td>1.080538e+07</td>\n",
       "    </tr>\n",
       "    <tr>\n",
       "      <th rowspan=\"4\" valign=\"top\">Retail</th>\n",
       "      <th>Retail: Dept and Specialty</th>\n",
       "      <td>6.660787e+05</td>\n",
       "      <td>4.842741e+05</td>\n",
       "    </tr>\n",
       "    <tr>\n",
       "      <th>Retail: Drug</th>\n",
       "      <td>1.385101e+04</td>\n",
       "      <td>2.076880e+04</td>\n",
       "    </tr>\n",
       "    <tr>\n",
       "      <th>Retail: Food and Mass</th>\n",
       "      <td>1.133609e+07</td>\n",
       "      <td>1.474699e+07</td>\n",
       "    </tr>\n",
       "    <tr>\n",
       "      <th>Retail: Petroleum-Convenience</th>\n",
       "      <td>6.045798e+04</td>\n",
       "      <td>4.745620e+04</td>\n",
       "    </tr>\n",
       "  </tbody>\n",
       "</table>\n",
       "</div>"
      ],
      "text/plain": [
       "                                                           Total Cost Amount $  \\\n",
       "Country   Industry    Customer Sub-Industry                                      \n",
       "Australia Banking     Financial: Banking CFI                      1.934528e+06   \n",
       "                      Financial: Banking Major                    1.665481e+07   \n",
       "          Retail      Retail: Dept and Specialty                  3.355475e+05   \n",
       "                      Retail: Food and Mass                       1.137560e+06   \n",
       "CHINA     Banking     Financial: Banking Major                    9.811106e+05   \n",
       "          Retail      Financial: Banking Major                    0.000000e+00   \n",
       "                      Retail: Dept and Specialty                  2.132711e+05   \n",
       "                      Retail: Food and Mass                       1.185699e+06   \n",
       "                      Retail: Petroleum-Convenience               7.078201e+03   \n",
       "Italy     Banking     Financial: Channel                          2.773338e+06   \n",
       "UAE       Banking     Financial: Banking CFI                      1.212709e+07   \n",
       "                      Financial: Banking Major                    5.296632e+07   \n",
       "UK        Banking     Financial: Banking CFI                      1.354658e+06   \n",
       "                      Financial: Banking Major                    6.297941e+07   \n",
       "                      Financial: Other Financial Services         1.718376e+06   \n",
       "                      Retail: Dept and Specialty                  4.004562e+04   \n",
       "          Hospitality Hospitality:Eating Drinking QS              9.923711e+04   \n",
       "          Retail      Retail: Channel                             2.286726e+04   \n",
       "                      Retail: Dept and Specialty                  1.286778e+06   \n",
       "                      Retail: Distribution-Wholesale              3.368341e+06   \n",
       "                      Retail: Food and Mass                       1.363223e+07   \n",
       "US        Banking     Financial: Banking CFI                      3.997245e+04   \n",
       "                      Financial: Banking Major                    8.282595e+06   \n",
       "          Hospitality Hospitality:Eating Drinking QS              8.777764e+06   \n",
       "          Retail      Retail: Dept and Specialty                  6.660787e+05   \n",
       "                      Retail: Drug                                1.385101e+04   \n",
       "                      Retail: Food and Mass                       1.133609e+07   \n",
       "                      Retail: Petroleum-Convenience               6.045798e+04   \n",
       "\n",
       "                                                           Total Revenue Amount $  \n",
       "Country   Industry    Customer Sub-Industry                                        \n",
       "Australia Banking     Financial: Banking CFI                         5.899881e+05  \n",
       "                      Financial: Banking Major                       6.267364e+06  \n",
       "          Retail      Retail: Dept and Specialty                     7.985030e+05  \n",
       "                      Retail: Food and Mass                          4.280640e+06  \n",
       "CHINA     Banking     Financial: Banking Major                       8.686898e+05  \n",
       "          Retail      Financial: Banking Major                       5.728564e+03  \n",
       "                      Retail: Dept and Specialty                     1.871721e+05  \n",
       "                      Retail: Food and Mass                          7.256590e+05  \n",
       "                      Retail: Petroleum-Convenience                  8.074939e+03  \n",
       "Italy     Banking     Financial: Channel                             3.407058e+06  \n",
       "UAE       Banking     Financial: Banking CFI                         6.326465e+06  \n",
       "                      Financial: Banking Major                       1.895083e+07  \n",
       "UK        Banking     Financial: Banking CFI                         7.056803e+05  \n",
       "                      Financial: Banking Major                       2.329999e+07  \n",
       "                      Financial: Other Financial Services            1.283437e+06  \n",
       "                      Retail: Dept and Specialty                     2.817092e+04  \n",
       "          Hospitality Hospitality:Eating Drinking QS                 8.856356e+04  \n",
       "          Retail      Retail: Channel                                2.268437e+04  \n",
       "                      Retail: Dept and Specialty                     8.552565e+05  \n",
       "                      Retail: Distribution-Wholesale                 2.146429e+06  \n",
       "                      Retail: Food and Mass                          8.907398e+06  \n",
       "US        Banking     Financial: Banking CFI                         1.129289e+05  \n",
       "                      Financial: Banking Major                       1.331056e+07  \n",
       "          Hospitality Hospitality:Eating Drinking QS                 1.080538e+07  \n",
       "          Retail      Retail: Dept and Specialty                     4.842741e+05  \n",
       "                      Retail: Drug                                   2.076880e+04  \n",
       "                      Retail: Food and Mass                          1.474699e+07  \n",
       "                      Retail: Petroleum-Convenience                  4.745620e+04  "
      ]
     },
     "execution_count": 22,
     "metadata": {},
     "output_type": "execute_result"
    }
   ],
   "source": [
    "temp1"
   ]
  },
  {
   "cell_type": "code",
   "execution_count": 23,
   "metadata": {},
   "outputs": [],
   "source": [
    "temp1.reset_index(inplace=True)"
   ]
  },
  {
   "cell_type": "code",
   "execution_count": 24,
   "metadata": {},
   "outputs": [],
   "source": [
    "# 2.\tWhere did we earn the most?"
   ]
  },
  {
   "cell_type": "code",
   "execution_count": 25,
   "metadata": {},
   "outputs": [
    {
     "data": {
      "text/html": [
       "<div>\n",
       "<style scoped>\n",
       "    .dataframe tbody tr th:only-of-type {\n",
       "        vertical-align: middle;\n",
       "    }\n",
       "\n",
       "    .dataframe tbody tr th {\n",
       "        vertical-align: top;\n",
       "    }\n",
       "\n",
       "    .dataframe thead th {\n",
       "        text-align: right;\n",
       "    }\n",
       "</style>\n",
       "<table border=\"1\" class=\"dataframe\">\n",
       "  <thead>\n",
       "    <tr style=\"text-align: right;\">\n",
       "      <th></th>\n",
       "      <th>Country</th>\n",
       "      <th>Industry</th>\n",
       "      <th>Customer Sub-Industry</th>\n",
       "      <th>Total Cost Amount $</th>\n",
       "      <th>Total Revenue Amount $</th>\n",
       "    </tr>\n",
       "  </thead>\n",
       "  <tbody>\n",
       "    <tr>\n",
       "      <th>13</th>\n",
       "      <td>UK</td>\n",
       "      <td>Banking</td>\n",
       "      <td>Financial: Banking Major</td>\n",
       "      <td>6.297941e+07</td>\n",
       "      <td>2.329999e+07</td>\n",
       "    </tr>\n",
       "  </tbody>\n",
       "</table>\n",
       "</div>"
      ],
      "text/plain": [
       "   Country Industry     Customer Sub-Industry  Total Cost Amount $  \\\n",
       "13      UK  Banking  Financial: Banking Major         6.297941e+07   \n",
       "\n",
       "    Total Revenue Amount $  \n",
       "13            2.329999e+07  "
      ]
     },
     "execution_count": 25,
     "metadata": {},
     "output_type": "execute_result"
    }
   ],
   "source": [
    "temp1[temp1['Total Revenue Amount $'] == temp1['Total Revenue Amount $'].max()]"
   ]
  },
  {
   "cell_type": "code",
   "execution_count": 26,
   "metadata": {},
   "outputs": [],
   "source": [
    "# 3.\tWhere did we spend the most?"
   ]
  },
  {
   "cell_type": "code",
   "execution_count": 27,
   "metadata": {},
   "outputs": [
    {
     "data": {
      "text/html": [
       "<div>\n",
       "<style scoped>\n",
       "    .dataframe tbody tr th:only-of-type {\n",
       "        vertical-align: middle;\n",
       "    }\n",
       "\n",
       "    .dataframe tbody tr th {\n",
       "        vertical-align: top;\n",
       "    }\n",
       "\n",
       "    .dataframe thead th {\n",
       "        text-align: right;\n",
       "    }\n",
       "</style>\n",
       "<table border=\"1\" class=\"dataframe\">\n",
       "  <thead>\n",
       "    <tr style=\"text-align: right;\">\n",
       "      <th></th>\n",
       "      <th>Country</th>\n",
       "      <th>Industry</th>\n",
       "      <th>Customer Sub-Industry</th>\n",
       "      <th>Total Cost Amount $</th>\n",
       "      <th>Total Revenue Amount $</th>\n",
       "    </tr>\n",
       "  </thead>\n",
       "  <tbody>\n",
       "    <tr>\n",
       "      <th>13</th>\n",
       "      <td>UK</td>\n",
       "      <td>Banking</td>\n",
       "      <td>Financial: Banking Major</td>\n",
       "      <td>6.297941e+07</td>\n",
       "      <td>2.329999e+07</td>\n",
       "    </tr>\n",
       "  </tbody>\n",
       "</table>\n",
       "</div>"
      ],
      "text/plain": [
       "   Country Industry     Customer Sub-Industry  Total Cost Amount $  \\\n",
       "13      UK  Banking  Financial: Banking Major         6.297941e+07   \n",
       "\n",
       "    Total Revenue Amount $  \n",
       "13            2.329999e+07  "
      ]
     },
     "execution_count": 27,
     "metadata": {},
     "output_type": "execute_result"
    }
   ],
   "source": [
    "temp1[temp1['Total Cost Amount $'] == temp1['Total Cost Amount $'].max()]"
   ]
  },
  {
   "cell_type": "code",
   "execution_count": 28,
   "metadata": {},
   "outputs": [],
   "source": [
    "# 4.\tWhere did we gain the most overall profit? "
   ]
  },
  {
   "cell_type": "code",
   "execution_count": 29,
   "metadata": {},
   "outputs": [],
   "source": [
    "temp1['profit'] = temp1['Total Revenue Amount $'] -  temp1['Total Cost Amount $']"
   ]
  },
  {
   "cell_type": "code",
   "execution_count": 30,
   "metadata": {},
   "outputs": [
    {
     "data": {
      "text/html": [
       "<div>\n",
       "<style scoped>\n",
       "    .dataframe tbody tr th:only-of-type {\n",
       "        vertical-align: middle;\n",
       "    }\n",
       "\n",
       "    .dataframe tbody tr th {\n",
       "        vertical-align: top;\n",
       "    }\n",
       "\n",
       "    .dataframe thead th {\n",
       "        text-align: right;\n",
       "    }\n",
       "</style>\n",
       "<table border=\"1\" class=\"dataframe\">\n",
       "  <thead>\n",
       "    <tr style=\"text-align: right;\">\n",
       "      <th></th>\n",
       "      <th>Country</th>\n",
       "      <th>Industry</th>\n",
       "      <th>Customer Sub-Industry</th>\n",
       "      <th>Total Cost Amount $</th>\n",
       "      <th>Total Revenue Amount $</th>\n",
       "      <th>profit</th>\n",
       "    </tr>\n",
       "  </thead>\n",
       "  <tbody>\n",
       "    <tr>\n",
       "      <th>22</th>\n",
       "      <td>US</td>\n",
       "      <td>Banking</td>\n",
       "      <td>Financial: Banking Major</td>\n",
       "      <td>8282594.51</td>\n",
       "      <td>13310563.15</td>\n",
       "      <td>5027968.64</td>\n",
       "    </tr>\n",
       "  </tbody>\n",
       "</table>\n",
       "</div>"
      ],
      "text/plain": [
       "   Country Industry     Customer Sub-Industry  Total Cost Amount $  \\\n",
       "22      US  Banking  Financial: Banking Major           8282594.51   \n",
       "\n",
       "    Total Revenue Amount $      profit  \n",
       "22             13310563.15  5027968.64  "
      ]
     },
     "execution_count": 30,
     "metadata": {},
     "output_type": "execute_result"
    }
   ],
   "source": [
    "temp1[temp1['profit'] == temp1['profit'].max()]"
   ]
  },
  {
   "cell_type": "code",
   "execution_count": 31,
   "metadata": {},
   "outputs": [],
   "source": [
    "# 5.\tVisualise the Revenue and cost monthly trend for:\n",
    "# i.\tthe 10 productswe made the least profit from(You may use any software)\n",
    "# ii.\tthe 10 Customers we made the most profit from (You may use any software)\n"
   ]
  },
  {
   "cell_type": "code",
   "execution_count": 32,
   "metadata": {},
   "outputs": [],
   "source": [
    "df1['profit'] = df1['Total Revenue Amount $'] -  df1['Total Cost Amount $']"
   ]
  },
  {
   "cell_type": "code",
   "execution_count": 33,
   "metadata": {},
   "outputs": [
    {
     "data": {
      "text/plain": [
       "Index(['Month Number', 'Year', 'Industry', 'Country', 'Customer Sub-Industry',\n",
       "       'Customer ID', 'Product ID', 'Total Cost Amount $',\n",
       "       'Total Revenue Amount $', 'profit'],\n",
       "      dtype='object')"
      ]
     },
     "execution_count": 33,
     "metadata": {},
     "output_type": "execute_result"
    }
   ],
   "source": [
    "df1.columns"
   ]
  },
  {
   "cell_type": "code",
   "execution_count": 34,
   "metadata": {},
   "outputs": [],
   "source": [
    "pro = pd.DataFrame(df1.groupby(['Product ID'])['profit'].sum())\n",
    "pro.reset_index(inplace=True)"
   ]
  },
  {
   "cell_type": "code",
   "execution_count": 35,
   "metadata": {},
   "outputs": [],
   "source": [
    "less_profit = list(pro.sort_values('profit',ascending=True)['Product ID'][0:10])"
   ]
  },
  {
   "cell_type": "code",
   "execution_count": 45,
   "metadata": {},
   "outputs": [
    {
     "data": {
      "text/html": [
       "<div>\n",
       "<style scoped>\n",
       "    .dataframe tbody tr th:only-of-type {\n",
       "        vertical-align: middle;\n",
       "    }\n",
       "\n",
       "    .dataframe tbody tr th {\n",
       "        vertical-align: top;\n",
       "    }\n",
       "\n",
       "    .dataframe thead th {\n",
       "        text-align: right;\n",
       "    }\n",
       "</style>\n",
       "<table border=\"1\" class=\"dataframe\">\n",
       "  <thead>\n",
       "    <tr style=\"text-align: right;\">\n",
       "      <th></th>\n",
       "      <th>Product ID</th>\n",
       "      <th>profit</th>\n",
       "    </tr>\n",
       "  </thead>\n",
       "  <tbody>\n",
       "    <tr>\n",
       "      <th>86</th>\n",
       "      <td>6684.0</td>\n",
       "      <td>-2.008348e+07</td>\n",
       "    </tr>\n",
       "    <tr>\n",
       "      <th>85</th>\n",
       "      <td>6683.0</td>\n",
       "      <td>-1.457996e+07</td>\n",
       "    </tr>\n",
       "    <tr>\n",
       "      <th>83</th>\n",
       "      <td>6681.0</td>\n",
       "      <td>-1.179042e+07</td>\n",
       "    </tr>\n",
       "    <tr>\n",
       "      <th>84</th>\n",
       "      <td>6682.0</td>\n",
       "      <td>-7.459128e+06</td>\n",
       "    </tr>\n",
       "    <tr>\n",
       "      <th>74</th>\n",
       "      <td>6627.0</td>\n",
       "      <td>-6.045367e+06</td>\n",
       "    </tr>\n",
       "    <tr>\n",
       "      <th>...</th>\n",
       "      <td>...</td>\n",
       "      <td>...</td>\n",
       "    </tr>\n",
       "    <tr>\n",
       "      <th>16</th>\n",
       "      <td>1642.0</td>\n",
       "      <td>1.776766e+05</td>\n",
       "    </tr>\n",
       "    <tr>\n",
       "      <th>131</th>\n",
       "      <td>7745.0</td>\n",
       "      <td>7.541658e+05</td>\n",
       "    </tr>\n",
       "    <tr>\n",
       "      <th>115</th>\n",
       "      <td>7362.0</td>\n",
       "      <td>8.063495e+05</td>\n",
       "    </tr>\n",
       "    <tr>\n",
       "      <th>111</th>\n",
       "      <td>7350.0</td>\n",
       "      <td>9.258733e+05</td>\n",
       "    </tr>\n",
       "    <tr>\n",
       "      <th>114</th>\n",
       "      <td>7360.0</td>\n",
       "      <td>2.695634e+06</td>\n",
       "    </tr>\n",
       "  </tbody>\n",
       "</table>\n",
       "<p>143 rows × 2 columns</p>\n",
       "</div>"
      ],
      "text/plain": [
       "     Product ID        profit\n",
       "86       6684.0 -2.008348e+07\n",
       "85       6683.0 -1.457996e+07\n",
       "83       6681.0 -1.179042e+07\n",
       "84       6682.0 -7.459128e+06\n",
       "74       6627.0 -6.045367e+06\n",
       "..          ...           ...\n",
       "16       1642.0  1.776766e+05\n",
       "131      7745.0  7.541658e+05\n",
       "115      7362.0  8.063495e+05\n",
       "111      7350.0  9.258733e+05\n",
       "114      7360.0  2.695634e+06\n",
       "\n",
       "[143 rows x 2 columns]"
      ]
     },
     "execution_count": 45,
     "metadata": {},
     "output_type": "execute_result"
    }
   ],
   "source": [
    "pro.sort_values('profit',ascending=True)"
   ]
  },
  {
   "cell_type": "code",
   "execution_count": 57,
   "metadata": {},
   "outputs": [
    {
     "data": {
      "text/plain": [
       "Text(0.5, 1.0, 'Plot for Product ID wise Less Revenue')"
      ]
     },
     "execution_count": 57,
     "metadata": {},
     "output_type": "execute_result"
    },
    {
     "data": {
      "image/png": "[encoded data removed]",
      "text/plain": [
       "<Figure size 1080x360 with 1 Axes>"
      ]
     },
     "metadata": {
      "needs_background": "light"
     },
     "output_type": "display_data"
    }
   ],
   "source": [
    "plt.figure(figsize=(15,5))\n",
    "plt.plot(df1.groupby(df1[df1['Product ID'] == less_profit[0]]['Month Number'])['Total Revenue Amount $'].sum().values,label=less_profit[0])\n",
    "plt.plot(df1.groupby(df1[df1['Product ID'] == less_profit[1]]['Month Number'])['Total Revenue Amount $'].sum().values,label=less_profit[1])\n",
    "plt.plot(df1.groupby(df1[df1['Product ID'] == less_profit[2]]['Month Number'])['Total Revenue Amount $'].sum().values,label=less_profit[2])\n",
    "plt.plot(df1.groupby(df1[df1['Product ID'] == less_profit[3]]['Month Number'])['Total Revenue Amount $'].sum().values,label=less_profit[3])\n",
    "plt.plot(df1.groupby(df1[df1['Product ID'] == less_profit[4]]['Month Number'])['Total Revenue Amount $'].sum().values,label=less_profit[4])\n",
    "plt.plot(df1.groupby(df1[df1['Product ID'] == less_profit[5]]['Month Number'])['Total Revenue Amount $'].sum().values,label=less_profit[5])\n",
    "plt.plot(df1.groupby(df1[df1['Product ID'] == less_profit[6]]['Month Number'])['Total Revenue Amount $'].sum().values,label=less_profit[6])\n",
    "plt.plot(df1.groupby(df1[df1['Product ID'] == less_profit[7]]['Month Number'])['Total Revenue Amount $'].sum().values,label=less_profit[7])\n",
    "plt.plot(df1.groupby(df1[df1['Product ID'] == less_profit[8]]['Month Number'])['Total Revenue Amount $'].sum().values,label=less_profit[8])\n",
    "plt.plot(df1.groupby(df1[df1['Product ID'] == less_profit[9]]['Month Number'])['Total Revenue Amount $'].sum().values,label=less_profit[9])\n",
    "plt.legend(loc='upper right')\n",
    "plt.xlabel(\"Month\")\n",
    "plt.ylabel(\"Revenue\")\n",
    "plt.title(f\"Plot for Product ID wise Less Revenue\")"
   ]
  },
  {
   "cell_type": "code",
   "execution_count": 58,
   "metadata": {},
   "outputs": [],
   "source": [
    "# for i in less_profit:\n",
    "#     temp = df1[df1['Product ID'] == i]\n",
    "#     plt.figure()\n",
    "#     plt.figure(figsize=(15,5))\n",
    "#     sns.lineplot(x='Month Number',y='Total Revenue Amount $',data=temp)\n",
    "#     plt.xlabel(\"Month\")\n",
    "#     plt.ylabel(\"Revenue\")\n",
    "#     plt.title(f\"Plot for Product ID {int(i)}\")"
   ]
  },
  {
   "cell_type": "code",
   "execution_count": 59,
   "metadata": {},
   "outputs": [
    {
     "data": {
      "text/plain": [
       "Text(0.5, 1.0, 'Plot for Product ID wise Less Cost')"
      ]
     },
     "execution_count": 59,
     "metadata": {},
     "output_type": "execute_result"
    },
    {
     "data": {
      "image/png": "[encoded data removed]",
      "text/plain": [
       "<Figure size 1080x360 with 1 Axes>"
      ]
     },
     "metadata": {
      "needs_background": "light"
     },
     "output_type": "display_data"
    }
   ],
   "source": [
    "plt.figure(figsize=(15,5))\n",
    "plt.plot(df1.groupby(df1[df1['Product ID'] == less_profit[0]]['Month Number'])['Total Cost Amount $'].sum().values,label=less_profit[0])\n",
    "plt.plot(df1.groupby(df1[df1['Product ID'] == less_profit[1]]['Month Number'])['Total Cost Amount $'].sum().values,label=less_profit[1])\n",
    "plt.plot(df1.groupby(df1[df1['Product ID'] == less_profit[2]]['Month Number'])['Total Cost Amount $'].sum().values,label=less_profit[2])\n",
    "plt.plot(df1.groupby(df1[df1['Product ID'] == less_profit[3]]['Month Number'])['Total Cost Amount $'].sum().values,label=less_profit[3])\n",
    "plt.plot(df1.groupby(df1[df1['Product ID'] == less_profit[4]]['Month Number'])['Total Cost Amount $'].sum().values,label=less_profit[4])\n",
    "plt.plot(df1.groupby(df1[df1['Product ID'] == less_profit[5]]['Month Number'])['Total Cost Amount $'].sum().values,label=less_profit[5])\n",
    "plt.plot(df1.groupby(df1[df1['Product ID'] == less_profit[6]]['Month Number'])['Total Cost Amount $'].sum().values,label=less_profit[6])\n",
    "plt.plot(df1.groupby(df1[df1['Product ID'] == less_profit[7]]['Month Number'])['Total Cost Amount $'].sum().values,label=less_profit[7])\n",
    "plt.plot(df1.groupby(df1[df1['Product ID'] == less_profit[8]]['Month Number'])['Total Cost Amount $'].sum().values,label=less_profit[8])\n",
    "plt.plot(df1.groupby(df1[df1['Product ID'] == less_profit[9]]['Month Number'])['Total Cost Amount $'].sum().values,label=less_profit[9])\n",
    "plt.legend(loc='upper right')\n",
    "plt.xlabel(\"Month\")\n",
    "plt.ylabel(\"Revenue\")\n",
    "plt.title(f\"Plot for Product ID wise Less Cost\")"
   ]
  },
  {
   "cell_type": "code",
   "execution_count": 60,
   "metadata": {},
   "outputs": [],
   "source": [
    "# for i in less_profit:\n",
    "#     temp = df1[df1['Product ID'] == i]\n",
    "#     plt.figure()\n",
    "#     plt.figure(figsize=(15,5))\n",
    "#     sns.lineplot(x='Month Number',y='Total Cost Amount $',data=temp)\n",
    "#     plt.xlabel(\"Month\")\n",
    "#     plt.ylabel(\"Cost\")\n",
    "#     plt.title(f\"Plot for {int(i)}\")"
   ]
  },
  {
   "cell_type": "code",
   "execution_count": 61,
   "metadata": {},
   "outputs": [],
   "source": [
    "cus = pd.DataFrame(df1.groupby(['Customer ID'])['profit'].sum())\n",
    "cus.reset_index(inplace=True)\n",
    "\n",
    "most_profit = list(cus.sort_values('profit',ascending=False)['Customer ID'][0:10])"
   ]
  },
  {
   "cell_type": "code",
   "execution_count": 62,
   "metadata": {},
   "outputs": [
    {
     "data": {
      "text/plain": [
       "Text(0.5, 1.0, 'Plot for Customer ID wise Most Revenue')"
      ]
     },
     "execution_count": 62,
     "metadata": {},
     "output_type": "execute_result"
    },
    {
     "data": {
      "image/png": "[encoded data removed]",
      "text/plain": [
       "<Figure size 1080x360 with 1 Axes>"
      ]
     },
     "metadata": {
      "needs_background": "light"
     },
     "output_type": "display_data"
    }
   ],
   "source": [
    "plt.figure(figsize=(15,5))\n",
    "plt.plot(df1.groupby(df1[df1['Customer ID'] == most_profit[0]]['Month Number'])['Total Revenue Amount $'].sum().values,label=most_profit[0])\n",
    "plt.plot(df1.groupby(df1[df1['Customer ID'] == most_profit[1]]['Month Number'])['Total Revenue Amount $'].sum().values,label=most_profit[1])\n",
    "plt.plot(df1.groupby(df1[df1['Customer ID'] == most_profit[2]]['Month Number'])['Total Revenue Amount $'].sum().values,label=most_profit[2])\n",
    "plt.plot(df1.groupby(df1[df1['Customer ID'] == most_profit[3]]['Month Number'])['Total Revenue Amount $'].sum().values,label=most_profit[3])\n",
    "plt.plot(df1.groupby(df1[df1['Customer ID'] == most_profit[4]]['Month Number'])['Total Revenue Amount $'].sum().values,label=most_profit[4])\n",
    "plt.plot(df1.groupby(df1[df1['Customer ID'] == most_profit[5]]['Month Number'])['Total Revenue Amount $'].sum().values,label=most_profit[5])\n",
    "plt.plot(df1.groupby(df1[df1['Customer ID'] == most_profit[6]]['Month Number'])['Total Revenue Amount $'].sum().values,label=most_profit[6])\n",
    "plt.plot(df1.groupby(df1[df1['Customer ID'] == most_profit[7]]['Month Number'])['Total Revenue Amount $'].sum().values,label=most_profit[7])\n",
    "plt.plot(df1.groupby(df1[df1['Customer ID'] == most_profit[8]]['Month Number'])['Total Revenue Amount $'].sum().values,label=most_profit[8])\n",
    "plt.plot(df1.groupby(df1[df1['Customer ID'] == most_profit[9]]['Month Number'])['Total Revenue Amount $'].sum().values,label=most_profit[9])\n",
    "plt.legend(loc='upper right')\n",
    "plt.xlabel(\"Month\")\n",
    "plt.ylabel(\"Revenue\")\n",
    "plt.title(f\"Plot for Customer ID wise Most Revenue\")"
   ]
  },
  {
   "cell_type": "code",
   "execution_count": 63,
   "metadata": {},
   "outputs": [],
   "source": [
    "# for i in most_profit:\n",
    "#     temp = df1[df1['Customer ID'] == i]\n",
    "#     plt.figure()\n",
    "#     plt.figure(figsize=(15,5))\n",
    "#     sns.lineplot(x='Month Number',y='Total Revenue Amount $',data=temp)\n",
    "#     plt.xlabel(\"Month\")\n",
    "#     plt.ylabel(\"Revenue\")\n",
    "#     plt.title(f\"Plot for Customer ID {i}\")"
   ]
  },
  {
   "cell_type": "code",
   "execution_count": 65,
   "metadata": {},
   "outputs": [
    {
     "data": {
      "text/plain": [
       "Text(0.5, 1.0, 'Plot for Customer ID wise Most Cost')"
      ]
     },
     "execution_count": 65,
     "metadata": {},
     "output_type": "execute_result"
    },
    {
     "data": {
      "image/png": "[encoded data removed]",
      "text/plain": [
       "<Figure size 1080x360 with 1 Axes>"
      ]
     },
     "metadata": {
      "needs_background": "light"
     },
     "output_type": "display_data"
    }
   ],
   "source": [
    "plt.figure(figsize=(15,5))\n",
    "plt.plot(df1.groupby(df1[df1['Customer ID'] == most_profit[0]]['Month Number'])['Total Cost Amount $'].sum().values,label=most_profit[0])\n",
    "plt.plot(df1.groupby(df1[df1['Customer ID'] == most_profit[1]]['Month Number'])['Total Cost Amount $'].sum().values,label=most_profit[1])\n",
    "plt.plot(df1.groupby(df1[df1['Customer ID'] == most_profit[2]]['Month Number'])['Total Cost Amount $'].sum().values,label=most_profit[2])\n",
    "plt.plot(df1.groupby(df1[df1['Customer ID'] == most_profit[3]]['Month Number'])['Total Cost Amount $'].sum().values,label=most_profit[3])\n",
    "plt.plot(df1.groupby(df1[df1['Customer ID'] == most_profit[4]]['Month Number'])['Total Cost Amount $'].sum().values,label=most_profit[4])\n",
    "plt.plot(df1.groupby(df1[df1['Customer ID'] == most_profit[5]]['Month Number'])['Total Cost Amount $'].sum().values,label=most_profit[5])\n",
    "plt.plot(df1.groupby(df1[df1['Customer ID'] == most_profit[6]]['Month Number'])['Total Cost Amount $'].sum().values,label=most_profit[6])\n",
    "plt.plot(df1.groupby(df1[df1['Customer ID'] == most_profit[7]]['Month Number'])['Total Cost Amount $'].sum().values,label=most_profit[7])\n",
    "plt.plot(df1.groupby(df1[df1['Customer ID'] == most_profit[8]]['Month Number'])['Total Cost Amount $'].sum().values,label=most_profit[8])\n",
    "plt.plot(df1.groupby(df1[df1['Customer ID'] == most_profit[9]]['Month Number'])['Total Cost Amount $'].sum().values,label=most_profit[9])\n",
    "plt.legend(loc='upper right')\n",
    "plt.xlabel(\"Month\")\n",
    "plt.ylabel(\"Revenue\")\n",
    "plt.title(f\"Plot for Customer ID wise Most Cost\")"
   ]
  },
  {
   "cell_type": "code",
   "execution_count": 64,
   "metadata": {},
   "outputs": [],
   "source": [
    "# for i in most_profit:\n",
    "#     temp = df1[df1['Customer ID'] == i]\n",
    "#     plt.figure()\n",
    "#     plt.figure(figsize=(15,5))\n",
    "#     sns.lineplot(x='Month Number',y='Total Cost Amount $',data=temp)\n",
    "#     plt.xlabel(\"Month\")\n",
    "#     plt.ylabel(\"Cost\")\n",
    "#     plt.title(f\"Plot for Customer ID {i}\")"
   ]
  },
  {
   "cell_type": "markdown",
   "metadata": {},
   "source": [
    "# Task 2"
   ]
  },
  {
   "cell_type": "code",
   "execution_count": 57,
   "metadata": {},
   "outputs": [],
   "source": [
    "cus_info = pd.read_csv(\"Customer Data.csv\")\n",
    "con_regn = pd.read_csv(\"Geography data.csv\")\n",
    "invo_data = pd.read_csv(\"Invoice data.csv\")"
   ]
  },
  {
   "cell_type": "code",
   "execution_count": 58,
   "metadata": {},
   "outputs": [
    {
     "data": {
      "text/html": [
       "<div>\n",
       "<style scoped>\n",
       "    .dataframe tbody tr th:only-of-type {\n",
       "        vertical-align: middle;\n",
       "    }\n",
       "\n",
       "    .dataframe tbody tr th {\n",
       "        vertical-align: top;\n",
       "    }\n",
       "\n",
       "    .dataframe thead th {\n",
       "        text-align: right;\n",
       "    }\n",
       "</style>\n",
       "<table border=\"1\" class=\"dataframe\">\n",
       "  <thead>\n",
       "    <tr style=\"text-align: right;\">\n",
       "      <th></th>\n",
       "      <th>Customer ID</th>\n",
       "      <th>Industry</th>\n",
       "      <th>Customer Account Type</th>\n",
       "      <th>Customer Tiering</th>\n",
       "      <th>Customer Employees</th>\n",
       "    </tr>\n",
       "  </thead>\n",
       "  <tbody>\n",
       "    <tr>\n",
       "      <th>0</th>\n",
       "      <td>9303700</td>\n",
       "      <td>Retail</td>\n",
       "      <td>End Customer</td>\n",
       "      <td>Commercial</td>\n",
       "      <td>75</td>\n",
       "    </tr>\n",
       "    <tr>\n",
       "      <th>1</th>\n",
       "      <td>9057294</td>\n",
       "      <td>Hospitality</td>\n",
       "      <td>End Customer</td>\n",
       "      <td>Commercial</td>\n",
       "      <td>30</td>\n",
       "    </tr>\n",
       "    <tr>\n",
       "      <th>2</th>\n",
       "      <td>9274007</td>\n",
       "      <td>Hospitality</td>\n",
       "      <td>End Customer</td>\n",
       "      <td>Commercial</td>\n",
       "      <td>2</td>\n",
       "    </tr>\n",
       "    <tr>\n",
       "      <th>3</th>\n",
       "      <td>9546884</td>\n",
       "      <td>Retail</td>\n",
       "      <td>End Customer</td>\n",
       "      <td>Commercial</td>\n",
       "      <td>5500</td>\n",
       "    </tr>\n",
       "    <tr>\n",
       "      <th>4</th>\n",
       "      <td>8139793</td>\n",
       "      <td>Hospitality</td>\n",
       "      <td>End Customer</td>\n",
       "      <td>Commercial</td>\n",
       "      <td>8</td>\n",
       "    </tr>\n",
       "  </tbody>\n",
       "</table>\n",
       "</div>"
      ],
      "text/plain": [
       "  Customer ID     Industry Customer Account Type Customer Tiering  \\\n",
       "0     9303700       Retail          End Customer       Commercial   \n",
       "1     9057294  Hospitality          End Customer       Commercial   \n",
       "2     9274007  Hospitality          End Customer       Commercial   \n",
       "3     9546884       Retail          End Customer       Commercial   \n",
       "4     8139793  Hospitality          End Customer       Commercial   \n",
       "\n",
       "   Customer Employees  \n",
       "0                  75  \n",
       "1                  30  \n",
       "2                   2  \n",
       "3                5500  \n",
       "4                   8  "
      ]
     },
     "execution_count": 58,
     "metadata": {},
     "output_type": "execute_result"
    }
   ],
   "source": [
    "cus_info.head()"
   ]
  },
  {
   "cell_type": "code",
   "execution_count": 59,
   "metadata": {
    "scrolled": true
   },
   "outputs": [
    {
     "data": {
      "text/html": [
       "<div>\n",
       "<style scoped>\n",
       "    .dataframe tbody tr th:only-of-type {\n",
       "        vertical-align: middle;\n",
       "    }\n",
       "\n",
       "    .dataframe tbody tr th {\n",
       "        vertical-align: top;\n",
       "    }\n",
       "\n",
       "    .dataframe thead th {\n",
       "        text-align: right;\n",
       "    }\n",
       "</style>\n",
       "<table border=\"1\" class=\"dataframe\">\n",
       "  <thead>\n",
       "    <tr style=\"text-align: right;\">\n",
       "      <th></th>\n",
       "      <th>Country Name</th>\n",
       "      <th>Region</th>\n",
       "    </tr>\n",
       "  </thead>\n",
       "  <tbody>\n",
       "    <tr>\n",
       "      <th>0</th>\n",
       "      <td>turkey</td>\n",
       "      <td>europe</td>\n",
       "    </tr>\n",
       "    <tr>\n",
       "      <th>1</th>\n",
       "      <td>belgium</td>\n",
       "      <td>europe</td>\n",
       "    </tr>\n",
       "    <tr>\n",
       "      <th>2</th>\n",
       "      <td>norway</td>\n",
       "      <td>europe</td>\n",
       "    </tr>\n",
       "    <tr>\n",
       "      <th>3</th>\n",
       "      <td>netherlands</td>\n",
       "      <td>europe</td>\n",
       "    </tr>\n",
       "    <tr>\n",
       "      <th>4</th>\n",
       "      <td>china (prc)</td>\n",
       "      <td>asia pacific and japan</td>\n",
       "    </tr>\n",
       "  </tbody>\n",
       "</table>\n",
       "</div>"
      ],
      "text/plain": [
       "  Country Name                  Region\n",
       "0       turkey                  europe\n",
       "1      belgium                  europe\n",
       "2       norway                  europe\n",
       "3  netherlands                  europe\n",
       "4  china (prc)  asia pacific and japan"
      ]
     },
     "execution_count": 59,
     "metadata": {},
     "output_type": "execute_result"
    }
   ],
   "source": [
    "con_regn.head()"
   ]
  },
  {
   "cell_type": "code",
   "execution_count": 60,
   "metadata": {},
   "outputs": [
    {
     "data": {
      "text/html": [
       "<div>\n",
       "<style scoped>\n",
       "    .dataframe tbody tr th:only-of-type {\n",
       "        vertical-align: middle;\n",
       "    }\n",
       "\n",
       "    .dataframe tbody tr th {\n",
       "        vertical-align: top;\n",
       "    }\n",
       "\n",
       "    .dataframe thead th {\n",
       "        text-align: right;\n",
       "    }\n",
       "</style>\n",
       "<table border=\"1\" class=\"dataframe\">\n",
       "  <thead>\n",
       "    <tr style=\"text-align: right;\">\n",
       "      <th></th>\n",
       "      <th>Transaction ID</th>\n",
       "      <th>Customer ID</th>\n",
       "      <th>Invoice Date</th>\n",
       "      <th>Payment Date</th>\n",
       "      <th>Invoice Amount</th>\n",
       "      <th>Country</th>\n",
       "      <th>Payment Term</th>\n",
       "    </tr>\n",
       "  </thead>\n",
       "  <tbody>\n",
       "    <tr>\n",
       "      <th>0</th>\n",
       "      <td>2829652582</td>\n",
       "      <td>158957</td>\n",
       "      <td>28/02/2020</td>\n",
       "      <td>2020-05-07</td>\n",
       "      <td>191.32</td>\n",
       "      <td>UNITED STATES</td>\n",
       "      <td>33</td>\n",
       "    </tr>\n",
       "    <tr>\n",
       "      <th>1</th>\n",
       "      <td>2829747115</td>\n",
       "      <td>27389</td>\n",
       "      <td>17/03/2020</td>\n",
       "      <td>Null</td>\n",
       "      <td>96.27</td>\n",
       "      <td>UNITED STATES</td>\n",
       "      <td>45</td>\n",
       "    </tr>\n",
       "    <tr>\n",
       "      <th>2</th>\n",
       "      <td>2830116610</td>\n",
       "      <td>8481553</td>\n",
       "      <td>27/05/2020</td>\n",
       "      <td>2020-07-06</td>\n",
       "      <td>54.27</td>\n",
       "      <td>UNITED STATES</td>\n",
       "      <td>35</td>\n",
       "    </tr>\n",
       "    <tr>\n",
       "      <th>3</th>\n",
       "      <td>2829948029</td>\n",
       "      <td>28060</td>\n",
       "      <td>20/04/2020</td>\n",
       "      <td>2020-08-11</td>\n",
       "      <td>69.27</td>\n",
       "      <td>UNITED STATES</td>\n",
       "      <td>45</td>\n",
       "    </tr>\n",
       "    <tr>\n",
       "      <th>4</th>\n",
       "      <td>2829614796</td>\n",
       "      <td>158819</td>\n",
       "      <td>17/02/2020</td>\n",
       "      <td>2020-04-23</td>\n",
       "      <td>36.08</td>\n",
       "      <td>UNITED STATES</td>\n",
       "      <td>44</td>\n",
       "    </tr>\n",
       "  </tbody>\n",
       "</table>\n",
       "</div>"
      ],
      "text/plain": [
       "  Transaction ID Customer ID Invoice Date Payment Date  Invoice Amount  \\\n",
       "0     2829652582      158957   28/02/2020   2020-05-07          191.32   \n",
       "1     2829747115       27389   17/03/2020         Null           96.27   \n",
       "2     2830116610     8481553   27/05/2020   2020-07-06           54.27   \n",
       "3     2829948029       28060   20/04/2020   2020-08-11           69.27   \n",
       "4     2829614796      158819   17/02/2020   2020-04-23           36.08   \n",
       "\n",
       "        Country   Payment Term  \n",
       "0  UNITED STATES            33  \n",
       "1  UNITED STATES            45  \n",
       "2  UNITED STATES            35  \n",
       "3  UNITED STATES            45  \n",
       "4  UNITED STATES            44  "
      ]
     },
     "execution_count": 60,
     "metadata": {},
     "output_type": "execute_result"
    }
   ],
   "source": [
    "invo_data.head()"
   ]
  },
  {
   "cell_type": "code",
   "execution_count": 61,
   "metadata": {},
   "outputs": [
    {
     "data": {
      "text/plain": [
       "Index(['Transaction ID', 'Customer ID', 'Invoice Date', 'Payment Date',\n",
       "       'Invoice Amount', 'Country ', 'Payment Term'],\n",
       "      dtype='object')"
      ]
     },
     "execution_count": 61,
     "metadata": {},
     "output_type": "execute_result"
    }
   ],
   "source": [
    "invo_data.columns"
   ]
  },
  {
   "cell_type": "code",
   "execution_count": 62,
   "metadata": {},
   "outputs": [],
   "source": [
    "invo_data.rename(columns = {'Country ': 'Country'},inplace=True)"
   ]
  },
  {
   "cell_type": "code",
   "execution_count": 64,
   "metadata": {},
   "outputs": [
    {
     "data": {
      "text/plain": [
       "array(['UNITED STATES', 'CANADA', 'IRELAND', 'PORTUGAL', 'TURKEY',\n",
       "       'ITALY', 'COLOMBIA', 'ARGENTINA', 'INDIA', 'THAILAND', 'MALAYSIA',\n",
       "       'AUSTRALIA', 'FRANCE', 'SPAIN', 'GERMANY', 'MEXICO', 'CHILE',\n",
       "       'JAPAN', 'NETHERLANDS', 'UNITED KINGDOM', 'INDONESIA',\n",
       "       'NEW ZEALAND', 'DENMARK', 'SWITZERLAND', 'PUERTO RICO',\n",
       "       'CHINA (PRC)', 'POLAND', 'KOREA (REPUBLIC OF)', 'HONG KONG',\n",
       "       'NORWAY', 'BRUNEI DARUSSALAM', 'PHILIPPINES', 'SINGAPORE',\n",
       "       'BELGIUM', 'SWEDEN', 'AUSTRIA', 'DOMINICAN REPUBLIC', 'MACAU',\n",
       "       'PERU'], dtype=object)"
      ]
     },
     "execution_count": 64,
     "metadata": {},
     "output_type": "execute_result"
    }
   ],
   "source": [
    "invo_data['Country'].unique()"
   ]
  },
  {
   "cell_type": "code",
   "execution_count": 65,
   "metadata": {},
   "outputs": [],
   "source": [
    "invo_data['Country'] = invo_data['Country'].str.lower()"
   ]
  },
  {
   "cell_type": "code",
   "execution_count": 66,
   "metadata": {},
   "outputs": [],
   "source": [
    "con_regn.rename(columns = {'Country Name': 'Country'},inplace=True)"
   ]
  },
  {
   "cell_type": "code",
   "execution_count": 67,
   "metadata": {},
   "outputs": [],
   "source": [
    "df1 = invo_data.merge(con_regn,how='left',on=['Country'])"
   ]
  },
  {
   "cell_type": "code",
   "execution_count": 68,
   "metadata": {
    "scrolled": true
   },
   "outputs": [
    {
     "data": {
      "text/html": [
       "<div>\n",
       "<style scoped>\n",
       "    .dataframe tbody tr th:only-of-type {\n",
       "        vertical-align: middle;\n",
       "    }\n",
       "\n",
       "    .dataframe tbody tr th {\n",
       "        vertical-align: top;\n",
       "    }\n",
       "\n",
       "    .dataframe thead th {\n",
       "        text-align: right;\n",
       "    }\n",
       "</style>\n",
       "<table border=\"1\" class=\"dataframe\">\n",
       "  <thead>\n",
       "    <tr style=\"text-align: right;\">\n",
       "      <th></th>\n",
       "      <th>Transaction ID</th>\n",
       "      <th>Customer ID</th>\n",
       "      <th>Invoice Date</th>\n",
       "      <th>Payment Date</th>\n",
       "      <th>Invoice Amount</th>\n",
       "      <th>Country</th>\n",
       "      <th>Payment Term</th>\n",
       "      <th>Region</th>\n",
       "    </tr>\n",
       "  </thead>\n",
       "  <tbody>\n",
       "    <tr>\n",
       "      <th>0</th>\n",
       "      <td>2829652582</td>\n",
       "      <td>158957</td>\n",
       "      <td>28/02/2020</td>\n",
       "      <td>2020-05-07</td>\n",
       "      <td>191.32</td>\n",
       "      <td>united states</td>\n",
       "      <td>33</td>\n",
       "      <td>americas</td>\n",
       "    </tr>\n",
       "    <tr>\n",
       "      <th>1</th>\n",
       "      <td>2829747115</td>\n",
       "      <td>27389</td>\n",
       "      <td>17/03/2020</td>\n",
       "      <td>Null</td>\n",
       "      <td>96.27</td>\n",
       "      <td>united states</td>\n",
       "      <td>45</td>\n",
       "      <td>americas</td>\n",
       "    </tr>\n",
       "    <tr>\n",
       "      <th>2</th>\n",
       "      <td>2830116610</td>\n",
       "      <td>8481553</td>\n",
       "      <td>27/05/2020</td>\n",
       "      <td>2020-07-06</td>\n",
       "      <td>54.27</td>\n",
       "      <td>united states</td>\n",
       "      <td>35</td>\n",
       "      <td>americas</td>\n",
       "    </tr>\n",
       "    <tr>\n",
       "      <th>3</th>\n",
       "      <td>2829948029</td>\n",
       "      <td>28060</td>\n",
       "      <td>20/04/2020</td>\n",
       "      <td>2020-08-11</td>\n",
       "      <td>69.27</td>\n",
       "      <td>united states</td>\n",
       "      <td>45</td>\n",
       "      <td>americas</td>\n",
       "    </tr>\n",
       "    <tr>\n",
       "      <th>4</th>\n",
       "      <td>2829614796</td>\n",
       "      <td>158819</td>\n",
       "      <td>17/02/2020</td>\n",
       "      <td>2020-04-23</td>\n",
       "      <td>36.08</td>\n",
       "      <td>united states</td>\n",
       "      <td>44</td>\n",
       "      <td>americas</td>\n",
       "    </tr>\n",
       "  </tbody>\n",
       "</table>\n",
       "</div>"
      ],
      "text/plain": [
       "  Transaction ID Customer ID Invoice Date Payment Date  Invoice Amount  \\\n",
       "0     2829652582      158957   28/02/2020   2020-05-07          191.32   \n",
       "1     2829747115       27389   17/03/2020         Null           96.27   \n",
       "2     2830116610     8481553   27/05/2020   2020-07-06           54.27   \n",
       "3     2829948029       28060   20/04/2020   2020-08-11           69.27   \n",
       "4     2829614796      158819   17/02/2020   2020-04-23           36.08   \n",
       "\n",
       "         Country  Payment Term    Region  \n",
       "0  united states            33  americas  \n",
       "1  united states            45  americas  \n",
       "2  united states            35  americas  \n",
       "3  united states            45  americas  \n",
       "4  united states            44  americas  "
      ]
     },
     "execution_count": 68,
     "metadata": {},
     "output_type": "execute_result"
    }
   ],
   "source": [
    "df1.head()"
   ]
  },
  {
   "cell_type": "code",
   "execution_count": 69,
   "metadata": {},
   "outputs": [],
   "source": [
    "# 1.\tHow much cash was collected in each region in this data?"
   ]
  },
  {
   "cell_type": "code",
   "execution_count": 106,
   "metadata": {},
   "outputs": [
    {
     "data": {
      "text/html": [
       "<div>\n",
       "<style scoped>\n",
       "    .dataframe tbody tr th:only-of-type {\n",
       "        vertical-align: middle;\n",
       "    }\n",
       "\n",
       "    .dataframe tbody tr th {\n",
       "        vertical-align: top;\n",
       "    }\n",
       "\n",
       "    .dataframe thead th {\n",
       "        text-align: right;\n",
       "    }\n",
       "</style>\n",
       "<table border=\"1\" class=\"dataframe\">\n",
       "  <thead>\n",
       "    <tr style=\"text-align: right;\">\n",
       "      <th></th>\n",
       "      <th>Region</th>\n",
       "      <th>Invoice Amount</th>\n",
       "    </tr>\n",
       "  </thead>\n",
       "  <tbody>\n",
       "    <tr>\n",
       "      <th>0</th>\n",
       "      <td>americas</td>\n",
       "      <td>9.522620e+08</td>\n",
       "    </tr>\n",
       "    <tr>\n",
       "      <th>1</th>\n",
       "      <td>asia pacific and japan</td>\n",
       "      <td>2.438150e+07</td>\n",
       "    </tr>\n",
       "    <tr>\n",
       "      <th>2</th>\n",
       "      <td>europe</td>\n",
       "      <td>1.112728e+08</td>\n",
       "    </tr>\n",
       "  </tbody>\n",
       "</table>\n",
       "</div>"
      ],
      "text/plain": [
       "                   Region  Invoice Amount\n",
       "0                americas    9.522620e+08\n",
       "1  asia pacific and japan    2.438150e+07\n",
       "2                  europe    1.112728e+08"
      ]
     },
     "execution_count": 106,
     "metadata": {},
     "output_type": "execute_result"
    }
   ],
   "source": [
    "region = pd.DataFrame(df1.groupby('Region')['Invoice Amount'].sum())\n",
    "\n",
    "region.reset_index(inplace=True)\n",
    "\n",
    "region"
   ]
  },
  {
   "cell_type": "code",
   "execution_count": 114,
   "metadata": {},
   "outputs": [
    {
     "name": "stdout",
     "output_type": "stream",
     "text": [
      "americas --- 952262019.5641382 $\n",
      "asia pacific and japan --- 24381496.305400033 $\n",
      "europe --- 111272754.60659978 $\n"
     ]
    }
   ],
   "source": [
    "for i in range(region.shape[0]):\n",
    "    print(region['Region'][i],\"---\",region['Invoice Amount'][i],\"$\")"
   ]
  },
  {
   "cell_type": "code",
   "execution_count": 71,
   "metadata": {},
   "outputs": [
    {
     "data": {
      "text/html": [
       "<div>\n",
       "<style scoped>\n",
       "    .dataframe tbody tr th:only-of-type {\n",
       "        vertical-align: middle;\n",
       "    }\n",
       "\n",
       "    .dataframe tbody tr th {\n",
       "        vertical-align: top;\n",
       "    }\n",
       "\n",
       "    .dataframe thead th {\n",
       "        text-align: right;\n",
       "    }\n",
       "</style>\n",
       "<table border=\"1\" class=\"dataframe\">\n",
       "  <thead>\n",
       "    <tr style=\"text-align: right;\">\n",
       "      <th></th>\n",
       "      <th>Region</th>\n",
       "      <th>Invoice Amount</th>\n",
       "    </tr>\n",
       "  </thead>\n",
       "  <tbody>\n",
       "    <tr>\n",
       "      <th>1</th>\n",
       "      <td>asia pacific and japan</td>\n",
       "      <td>2.438150e+07</td>\n",
       "    </tr>\n",
       "  </tbody>\n",
       "</table>\n",
       "</div>"
      ],
      "text/plain": [
       "                   Region  Invoice Amount\n",
       "1  asia pacific and japan    2.438150e+07"
      ]
     },
     "execution_count": 71,
     "metadata": {},
     "output_type": "execute_result"
    }
   ],
   "source": [
    "region[region['Invoice Amount'] == region['Invoice Amount'].min()] #insides"
   ]
  },
  {
   "cell_type": "code",
   "execution_count": 74,
   "metadata": {},
   "outputs": [],
   "source": [
    "# 2.\tWhat proportion of transactions were:\n",
    "# a.\tPaid later than the payment term\n",
    "# b.\tNot paid at all\n",
    "# 3.\tIdentify:"
   ]
  },
  {
   "cell_type": "code",
   "execution_count": 72,
   "metadata": {},
   "outputs": [
    {
     "name": "stdout",
     "output_type": "stream",
     "text": [
      "<class 'pandas.core.frame.DataFrame'>\n",
      "Int64Index: 322907 entries, 0 to 322906\n",
      "Data columns (total 8 columns):\n",
      " #   Column          Non-Null Count   Dtype  \n",
      "---  ------          --------------   -----  \n",
      " 0   Transaction ID  322907 non-null  object \n",
      " 1   Customer ID     322907 non-null  object \n",
      " 2   Invoice Date    322907 non-null  object \n",
      " 3   Payment Date    322907 non-null  object \n",
      " 4   Invoice Amount  322907 non-null  float64\n",
      " 5   Country         322907 non-null  object \n",
      " 6   Payment Term    322907 non-null  int64  \n",
      " 7   Region          322907 non-null  object \n",
      "dtypes: float64(1), int64(1), object(6)\n",
      "memory usage: 14.8+ MB\n"
     ]
    }
   ],
   "source": [
    "df1.info()"
   ]
  },
  {
   "cell_type": "code",
   "execution_count": 75,
   "metadata": {},
   "outputs": [],
   "source": [
    "df1 = df1.replace('Null',0)"
   ]
  },
  {
   "cell_type": "code",
   "execution_count": 76,
   "metadata": {},
   "outputs": [
    {
     "data": {
      "text/plain": [
       "Transaction ID    0\n",
       "Customer ID       0\n",
       "Invoice Date      0\n",
       "Payment Date      0\n",
       "Invoice Amount    0\n",
       "Country           0\n",
       "Payment Term      0\n",
       "Region            0\n",
       "dtype: int64"
      ]
     },
     "execution_count": 76,
     "metadata": {},
     "output_type": "execute_result"
    }
   ],
   "source": [
    "df1.isna().sum()"
   ]
  },
  {
   "cell_type": "code",
   "execution_count": 77,
   "metadata": {},
   "outputs": [],
   "source": [
    "df1['Invoice Date'] = pd.to_datetime(df1['Invoice Date'])"
   ]
  },
  {
   "cell_type": "code",
   "execution_count": 78,
   "metadata": {},
   "outputs": [],
   "source": [
    "df1['Payment Date'] = pd.to_datetime(df1['Payment Date'])"
   ]
  },
  {
   "cell_type": "code",
   "execution_count": 79,
   "metadata": {},
   "outputs": [],
   "source": [
    "df1['Duration'] = df1['Payment Date'] - df1['Invoice Date']"
   ]
  },
  {
   "cell_type": "code",
   "execution_count": 80,
   "metadata": {},
   "outputs": [],
   "source": [
    "df1['Payment Status'] = 0"
   ]
  },
  {
   "cell_type": "code",
   "execution_count": 81,
   "metadata": {},
   "outputs": [],
   "source": [
    "df1.Duration = (df1.Duration / np.timedelta64(1,'D')).astype(int)"
   ]
  },
  {
   "cell_type": "code",
   "execution_count": 82,
   "metadata": {},
   "outputs": [],
   "source": [
    "df1.loc[df1['Duration'] > df1['Payment Term'], 'Payment Status'] = 'Paid Later'"
   ]
  },
  {
   "cell_type": "code",
   "execution_count": 83,
   "metadata": {},
   "outputs": [],
   "source": [
    "df1.loc[df1['Payment Date']==pd.to_datetime('1970-01-01'), 'Payment Status'] = 'Not Paid'"
   ]
  },
  {
   "cell_type": "code",
   "execution_count": 84,
   "metadata": {},
   "outputs": [],
   "source": [
    "df1.loc[df1['Payment Status'] == 0, 'Payment Status'] = 'Paid Early'"
   ]
  },
  {
   "cell_type": "code",
   "execution_count": 85,
   "metadata": {},
   "outputs": [
    {
     "name": "stdout",
     "output_type": "stream",
     "text": [
      "Paid Later 0.46537857649416087\n"
     ]
    }
   ],
   "source": [
    "print(\"Paid Later\",df1[df1['Payment Status']==\"Paid Later\"].shape[0]/df1.shape[0])"
   ]
  },
  {
   "cell_type": "code",
   "execution_count": 86,
   "metadata": {},
   "outputs": [
    {
     "name": "stdout",
     "output_type": "stream",
     "text": [
      "Not Paid 0.09548260025332371\n"
     ]
    }
   ],
   "source": [
    "print(\"Not Paid\",df1[df1['Payment Status']==\"Not Paid\"].shape[0]/df1.shape[0])"
   ]
  },
  {
   "cell_type": "code",
   "execution_count": 87,
   "metadata": {},
   "outputs": [
    {
     "name": "stdout",
     "output_type": "stream",
     "text": [
      "Paid 0.4391388232525154\n"
     ]
    }
   ],
   "source": [
    "print(\"Paid\",df1[df1['Payment Status']==\"Paid Early\"].shape[0]/df1.shape[0])"
   ]
  },
  {
   "cell_type": "code",
   "execution_count": 88,
   "metadata": {},
   "outputs": [],
   "source": [
    "# 3.\tIdentify:\n",
    "# a.\tCustomer IDs of the customers who contributed the most to the cashflow\n",
    "# b.\tWhich country had the most cashflow. Was this consistent throughout each month in the data? \n",
    "# c.\tWhich industry contributes to the most cashflow\n"
   ]
  },
  {
   "cell_type": "code",
   "execution_count": 89,
   "metadata": {},
   "outputs": [
    {
     "data": {
      "text/plain": [
       "Index(['Transaction ID', 'Customer ID', 'Invoice Date', 'Payment Date',\n",
       "       'Invoice Amount', 'Country', 'Payment Term', 'Region', 'Duration',\n",
       "       'Payment Status'],\n",
       "      dtype='object')"
      ]
     },
     "execution_count": 89,
     "metadata": {},
     "output_type": "execute_result"
    }
   ],
   "source": [
    "df1.columns"
   ]
  },
  {
   "cell_type": "code",
   "execution_count": 90,
   "metadata": {},
   "outputs": [
    {
     "data": {
      "text/html": [
       "<div>\n",
       "<style scoped>\n",
       "    .dataframe tbody tr th:only-of-type {\n",
       "        vertical-align: middle;\n",
       "    }\n",
       "\n",
       "    .dataframe tbody tr th {\n",
       "        vertical-align: top;\n",
       "    }\n",
       "\n",
       "    .dataframe thead th {\n",
       "        text-align: right;\n",
       "    }\n",
       "</style>\n",
       "<table border=\"1\" class=\"dataframe\">\n",
       "  <thead>\n",
       "    <tr style=\"text-align: right;\">\n",
       "      <th></th>\n",
       "      <th>Customer ID</th>\n",
       "      <th>Invoice Amount</th>\n",
       "    </tr>\n",
       "  </thead>\n",
       "  <tbody>\n",
       "    <tr>\n",
       "      <th>584</th>\n",
       "      <td>27374</td>\n",
       "      <td>35427496.61</td>\n",
       "    </tr>\n",
       "  </tbody>\n",
       "</table>\n",
       "</div>"
      ],
      "text/plain": [
       "    Customer ID  Invoice Amount\n",
       "584       27374     35427496.61"
      ]
     },
     "execution_count": 90,
     "metadata": {},
     "output_type": "execute_result"
    }
   ],
   "source": [
    "# a.\tCustomer IDs of the customers who contributed the most to the cashflow\n",
    "cus_id = pd.DataFrame(df1.groupby('Customer ID')['Invoice Amount'].sum())\n",
    "cus_id.reset_index(inplace=True)\n",
    "\n",
    "cus_id[cus_id['Invoice Amount'] == cus_id['Invoice Amount'].max()]"
   ]
  },
  {
   "cell_type": "code",
   "execution_count": 123,
   "metadata": {},
   "outputs": [
    {
     "data": {
      "text/html": [
       "<div>\n",
       "<style scoped>\n",
       "    .dataframe tbody tr th:only-of-type {\n",
       "        vertical-align: middle;\n",
       "    }\n",
       "\n",
       "    .dataframe tbody tr th {\n",
       "        vertical-align: top;\n",
       "    }\n",
       "\n",
       "    .dataframe thead th {\n",
       "        text-align: right;\n",
       "    }\n",
       "</style>\n",
       "<table border=\"1\" class=\"dataframe\">\n",
       "  <thead>\n",
       "    <tr style=\"text-align: right;\">\n",
       "      <th></th>\n",
       "      <th>Customer ID</th>\n",
       "      <th>Invoice Amount</th>\n",
       "    </tr>\n",
       "  </thead>\n",
       "  <tbody>\n",
       "    <tr>\n",
       "      <th>11312</th>\n",
       "      <td>9754010</td>\n",
       "      <td>6.27</td>\n",
       "    </tr>\n",
       "  </tbody>\n",
       "</table>\n",
       "</div>"
      ],
      "text/plain": [
       "      Customer ID  Invoice Amount\n",
       "11312     9754010            6.27"
      ]
     },
     "execution_count": 123,
     "metadata": {},
     "output_type": "execute_result"
    }
   ],
   "source": [
    "cus_id[cus_id['Invoice Amount'] == cus_id['Invoice Amount'].min()]"
   ]
  },
  {
   "cell_type": "code",
   "execution_count": 122,
   "metadata": {},
   "outputs": [
    {
     "data": {
      "text/plain": [
       "count    1.363400e+04\n",
       "mean     7.979436e+04\n",
       "std      7.142131e+05\n",
       "min      6.270000e+00\n",
       "25%      7.269475e+02\n",
       "50%      1.605530e+03\n",
       "75%      5.351865e+03\n",
       "max      3.542750e+07\n",
       "Name: Invoice Amount, dtype: float64"
      ]
     },
     "execution_count": 122,
     "metadata": {},
     "output_type": "execute_result"
    }
   ],
   "source": [
    "cus_id['Invoice Amount'].describe()"
   ]
  },
  {
   "cell_type": "code",
   "execution_count": 91,
   "metadata": {},
   "outputs": [],
   "source": [
    "temp = df1.copy()"
   ]
  },
  {
   "cell_type": "code",
   "execution_count": 92,
   "metadata": {},
   "outputs": [],
   "source": [
    "temp['Month'] = pd.to_datetime(temp['Invoice Date']).dt.month"
   ]
  },
  {
   "cell_type": "code",
   "execution_count": 93,
   "metadata": {},
   "outputs": [
    {
     "data": {
      "text/plain": [
       "Country        Month\n",
       "argentina      1        2.016947e+06\n",
       "               2        3.912443e+05\n",
       "               3        3.296532e+05\n",
       "               4        4.989652e+05\n",
       "               5        5.277423e+05\n",
       "                            ...     \n",
       "united states  8        6.623545e+07\n",
       "               9        4.459192e+07\n",
       "               10       5.253660e+07\n",
       "               11       5.223012e+07\n",
       "               12       1.894714e+07\n",
       "Name: Invoice Amount, Length: 306, dtype: float64"
      ]
     },
     "execution_count": 93,
     "metadata": {},
     "output_type": "execute_result"
    }
   ],
   "source": [
    "temp.groupby(['Country','Month'])['Invoice Amount'].sum()"
   ]
  },
  {
   "cell_type": "code",
   "execution_count": 94,
   "metadata": {},
   "outputs": [],
   "source": [
    "contry_df = pd.DataFrame(temp.groupby(['Country','Month'])['Invoice Amount'].sum())"
   ]
  },
  {
   "cell_type": "code",
   "execution_count": 95,
   "metadata": {},
   "outputs": [],
   "source": [
    "contry_df.reset_index(inplace=True)"
   ]
  },
  {
   "cell_type": "code",
   "execution_count": 96,
   "metadata": {
    "scrolled": true
   },
   "outputs": [
    {
     "data": {
      "text/html": [
       "<div>\n",
       "<style scoped>\n",
       "    .dataframe tbody tr th:only-of-type {\n",
       "        vertical-align: middle;\n",
       "    }\n",
       "\n",
       "    .dataframe tbody tr th {\n",
       "        vertical-align: top;\n",
       "    }\n",
       "\n",
       "    .dataframe thead th {\n",
       "        text-align: right;\n",
       "    }\n",
       "</style>\n",
       "<table border=\"1\" class=\"dataframe\">\n",
       "  <thead>\n",
       "    <tr style=\"text-align: right;\">\n",
       "      <th></th>\n",
       "      <th>Country</th>\n",
       "      <th>Month</th>\n",
       "      <th>Invoice Amount</th>\n",
       "    </tr>\n",
       "  </thead>\n",
       "  <tbody>\n",
       "    <tr>\n",
       "      <th>294</th>\n",
       "      <td>united states</td>\n",
       "      <td>1</td>\n",
       "      <td>9.643237e+07</td>\n",
       "    </tr>\n",
       "    <tr>\n",
       "      <th>295</th>\n",
       "      <td>united states</td>\n",
       "      <td>2</td>\n",
       "      <td>1.177913e+08</td>\n",
       "    </tr>\n",
       "    <tr>\n",
       "      <th>296</th>\n",
       "      <td>united states</td>\n",
       "      <td>3</td>\n",
       "      <td>1.141723e+08</td>\n",
       "    </tr>\n",
       "    <tr>\n",
       "      <th>297</th>\n",
       "      <td>united states</td>\n",
       "      <td>4</td>\n",
       "      <td>1.042457e+08</td>\n",
       "    </tr>\n",
       "    <tr>\n",
       "      <th>298</th>\n",
       "      <td>united states</td>\n",
       "      <td>5</td>\n",
       "      <td>9.749174e+07</td>\n",
       "    </tr>\n",
       "    <tr>\n",
       "      <th>299</th>\n",
       "      <td>united states</td>\n",
       "      <td>6</td>\n",
       "      <td>1.396966e+08</td>\n",
       "    </tr>\n",
       "    <tr>\n",
       "      <th>300</th>\n",
       "      <td>united states</td>\n",
       "      <td>7</td>\n",
       "      <td>1.062987e+07</td>\n",
       "    </tr>\n",
       "    <tr>\n",
       "      <th>301</th>\n",
       "      <td>united states</td>\n",
       "      <td>8</td>\n",
       "      <td>6.623545e+07</td>\n",
       "    </tr>\n",
       "    <tr>\n",
       "      <th>302</th>\n",
       "      <td>united states</td>\n",
       "      <td>9</td>\n",
       "      <td>4.459192e+07</td>\n",
       "    </tr>\n",
       "    <tr>\n",
       "      <th>303</th>\n",
       "      <td>united states</td>\n",
       "      <td>10</td>\n",
       "      <td>5.253660e+07</td>\n",
       "    </tr>\n",
       "    <tr>\n",
       "      <th>304</th>\n",
       "      <td>united states</td>\n",
       "      <td>11</td>\n",
       "      <td>5.223012e+07</td>\n",
       "    </tr>\n",
       "    <tr>\n",
       "      <th>305</th>\n",
       "      <td>united states</td>\n",
       "      <td>12</td>\n",
       "      <td>1.894714e+07</td>\n",
       "    </tr>\n",
       "  </tbody>\n",
       "</table>\n",
       "</div>"
      ],
      "text/plain": [
       "           Country  Month  Invoice Amount\n",
       "294  united states      1    9.643237e+07\n",
       "295  united states      2    1.177913e+08\n",
       "296  united states      3    1.141723e+08\n",
       "297  united states      4    1.042457e+08\n",
       "298  united states      5    9.749174e+07\n",
       "299  united states      6    1.396966e+08\n",
       "300  united states      7    1.062987e+07\n",
       "301  united states      8    6.623545e+07\n",
       "302  united states      9    4.459192e+07\n",
       "303  united states     10    5.253660e+07\n",
       "304  united states     11    5.223012e+07\n",
       "305  united states     12    1.894714e+07"
      ]
     },
     "execution_count": 96,
     "metadata": {},
     "output_type": "execute_result"
    }
   ],
   "source": [
    "# b.\tWhich country had the most cashflow. Was this consistent throughout each month in the data?\n",
    "contry_df[contry_df['Country']=='united states']"
   ]
  },
  {
   "cell_type": "code",
   "execution_count": 97,
   "metadata": {},
   "outputs": [
    {
     "data": {
      "text/plain": [
       "Index(['Transaction ID', 'Customer ID', 'Invoice Date', 'Payment Date',\n",
       "       'Invoice Amount', 'Country', 'Payment Term', 'Region', 'Duration',\n",
       "       'Payment Status'],\n",
       "      dtype='object')"
      ]
     },
     "execution_count": 97,
     "metadata": {},
     "output_type": "execute_result"
    }
   ],
   "source": [
    "df1.columns"
   ]
  },
  {
   "cell_type": "code",
   "execution_count": 98,
   "metadata": {},
   "outputs": [
    {
     "data": {
      "text/plain": [
       "Index(['Customer ID', 'Industry', 'Customer Account Type', 'Customer Tiering',\n",
       "       'Customer Employees'],\n",
       "      dtype='object')"
      ]
     },
     "execution_count": 98,
     "metadata": {},
     "output_type": "execute_result"
    }
   ],
   "source": [
    "cus_info.columns"
   ]
  },
  {
   "cell_type": "code",
   "execution_count": 99,
   "metadata": {},
   "outputs": [],
   "source": [
    "df2 = df1.merge(cus_info,how='left',on=['Customer ID'])"
   ]
  },
  {
   "cell_type": "code",
   "execution_count": 100,
   "metadata": {},
   "outputs": [
    {
     "data": {
      "text/html": [
       "<div>\n",
       "<style scoped>\n",
       "    .dataframe tbody tr th:only-of-type {\n",
       "        vertical-align: middle;\n",
       "    }\n",
       "\n",
       "    .dataframe tbody tr th {\n",
       "        vertical-align: top;\n",
       "    }\n",
       "\n",
       "    .dataframe thead th {\n",
       "        text-align: right;\n",
       "    }\n",
       "</style>\n",
       "<table border=\"1\" class=\"dataframe\">\n",
       "  <thead>\n",
       "    <tr style=\"text-align: right;\">\n",
       "      <th></th>\n",
       "      <th>Industry</th>\n",
       "      <th>Invoice Amount</th>\n",
       "    </tr>\n",
       "  </thead>\n",
       "  <tbody>\n",
       "    <tr>\n",
       "      <th>0</th>\n",
       "      <td>Banking</td>\n",
       "      <td>6.654722e+08</td>\n",
       "    </tr>\n",
       "  </tbody>\n",
       "</table>\n",
       "</div>"
      ],
      "text/plain": [
       "  Industry  Invoice Amount\n",
       "0  Banking    6.654722e+08"
      ]
     },
     "execution_count": 100,
     "metadata": {},
     "output_type": "execute_result"
    }
   ],
   "source": [
    "# c.\tWhich industry contributes to the most cashflow\n",
    "ind_id = pd.DataFrame(df2.groupby('Industry')['Invoice Amount'].sum())\n",
    "ind_id.reset_index(inplace=True)\n",
    "\n",
    "ind_id[ind_id['Invoice Amount'] == ind_id['Invoice Amount'].max()]"
   ]
  },
  {
   "cell_type": "code",
   "execution_count": 119,
   "metadata": {},
   "outputs": [
    {
     "data": {
      "text/html": [
       "<div>\n",
       "<style scoped>\n",
       "    .dataframe tbody tr th:only-of-type {\n",
       "        vertical-align: middle;\n",
       "    }\n",
       "\n",
       "    .dataframe tbody tr th {\n",
       "        vertical-align: top;\n",
       "    }\n",
       "\n",
       "    .dataframe thead th {\n",
       "        text-align: right;\n",
       "    }\n",
       "</style>\n",
       "<table border=\"1\" class=\"dataframe\">\n",
       "  <thead>\n",
       "    <tr style=\"text-align: right;\">\n",
       "      <th></th>\n",
       "      <th>Industry</th>\n",
       "      <th>Invoice Amount</th>\n",
       "    </tr>\n",
       "  </thead>\n",
       "  <tbody>\n",
       "    <tr>\n",
       "      <th>1</th>\n",
       "      <td>Hospitality</td>\n",
       "      <td>1.317643e+08</td>\n",
       "    </tr>\n",
       "  </tbody>\n",
       "</table>\n",
       "</div>"
      ],
      "text/plain": [
       "      Industry  Invoice Amount\n",
       "1  Hospitality    1.317643e+08"
      ]
     },
     "execution_count": 119,
     "metadata": {},
     "output_type": "execute_result"
    }
   ],
   "source": [
    "ind_id[ind_id['Invoice Amount'] == ind_id['Invoice Amount'].min()]"
   ]
  },
  {
   "cell_type": "code",
   "execution_count": 101,
   "metadata": {},
   "outputs": [
    {
     "data": {
      "text/html": [
       "<div>\n",
       "<style scoped>\n",
       "    .dataframe tbody tr th:only-of-type {\n",
       "        vertical-align: middle;\n",
       "    }\n",
       "\n",
       "    .dataframe tbody tr th {\n",
       "        vertical-align: top;\n",
       "    }\n",
       "\n",
       "    .dataframe thead th {\n",
       "        text-align: right;\n",
       "    }\n",
       "</style>\n",
       "<table border=\"1\" class=\"dataframe\">\n",
       "  <thead>\n",
       "    <tr style=\"text-align: right;\">\n",
       "      <th></th>\n",
       "      <th>Transaction ID</th>\n",
       "      <th>Customer ID</th>\n",
       "      <th>Invoice Date</th>\n",
       "      <th>Payment Date</th>\n",
       "      <th>Invoice Amount</th>\n",
       "      <th>Country</th>\n",
       "      <th>Payment Term</th>\n",
       "      <th>Region</th>\n",
       "      <th>Duration</th>\n",
       "      <th>Payment Status</th>\n",
       "      <th>Industry</th>\n",
       "      <th>Customer Account Type</th>\n",
       "      <th>Customer Tiering</th>\n",
       "      <th>Customer Employees</th>\n",
       "    </tr>\n",
       "  </thead>\n",
       "  <tbody>\n",
       "    <tr>\n",
       "      <th>0</th>\n",
       "      <td>2829652582</td>\n",
       "      <td>158957</td>\n",
       "      <td>2020-02-28</td>\n",
       "      <td>2020-05-07</td>\n",
       "      <td>191.32</td>\n",
       "      <td>united states</td>\n",
       "      <td>33</td>\n",
       "      <td>americas</td>\n",
       "      <td>69</td>\n",
       "      <td>Paid Later</td>\n",
       "      <td>Banking</td>\n",
       "      <td>End Customer</td>\n",
       "      <td>Nationals</td>\n",
       "      <td>14772</td>\n",
       "    </tr>\n",
       "    <tr>\n",
       "      <th>1</th>\n",
       "      <td>2829747115</td>\n",
       "      <td>27389</td>\n",
       "      <td>2020-03-17</td>\n",
       "      <td>1970-01-01</td>\n",
       "      <td>96.27</td>\n",
       "      <td>united states</td>\n",
       "      <td>45</td>\n",
       "      <td>americas</td>\n",
       "      <td>-18338</td>\n",
       "      <td>Not Paid</td>\n",
       "      <td>Retail</td>\n",
       "      <td>Partner</td>\n",
       "      <td>Commercial</td>\n",
       "      <td>67</td>\n",
       "    </tr>\n",
       "    <tr>\n",
       "      <th>2</th>\n",
       "      <td>2830116610</td>\n",
       "      <td>8481553</td>\n",
       "      <td>2020-05-27</td>\n",
       "      <td>2020-07-06</td>\n",
       "      <td>54.27</td>\n",
       "      <td>united states</td>\n",
       "      <td>35</td>\n",
       "      <td>americas</td>\n",
       "      <td>40</td>\n",
       "      <td>Paid Later</td>\n",
       "      <td>Retail</td>\n",
       "      <td>End Customer</td>\n",
       "      <td>Commercial</td>\n",
       "      <td>2992</td>\n",
       "    </tr>\n",
       "    <tr>\n",
       "      <th>3</th>\n",
       "      <td>2829948029</td>\n",
       "      <td>28060</td>\n",
       "      <td>2020-04-20</td>\n",
       "      <td>2020-08-11</td>\n",
       "      <td>69.27</td>\n",
       "      <td>united states</td>\n",
       "      <td>45</td>\n",
       "      <td>americas</td>\n",
       "      <td>113</td>\n",
       "      <td>Paid Later</td>\n",
       "      <td>Banking</td>\n",
       "      <td>End Customer</td>\n",
       "      <td>Nationals</td>\n",
       "      <td>22899</td>\n",
       "    </tr>\n",
       "    <tr>\n",
       "      <th>4</th>\n",
       "      <td>2829614796</td>\n",
       "      <td>158819</td>\n",
       "      <td>2020-02-17</td>\n",
       "      <td>2020-04-23</td>\n",
       "      <td>36.08</td>\n",
       "      <td>united states</td>\n",
       "      <td>44</td>\n",
       "      <td>americas</td>\n",
       "      <td>66</td>\n",
       "      <td>Paid Later</td>\n",
       "      <td>Banking</td>\n",
       "      <td>End Customer</td>\n",
       "      <td>Nationals</td>\n",
       "      <td>14243</td>\n",
       "    </tr>\n",
       "  </tbody>\n",
       "</table>\n",
       "</div>"
      ],
      "text/plain": [
       "  Transaction ID Customer ID Invoice Date Payment Date  Invoice Amount  \\\n",
       "0     2829652582      158957   2020-02-28   2020-05-07          191.32   \n",
       "1     2829747115       27389   2020-03-17   1970-01-01           96.27   \n",
       "2     2830116610     8481553   2020-05-27   2020-07-06           54.27   \n",
       "3     2829948029       28060   2020-04-20   2020-08-11           69.27   \n",
       "4     2829614796      158819   2020-02-17   2020-04-23           36.08   \n",
       "\n",
       "         Country  Payment Term    Region  Duration Payment Status Industry  \\\n",
       "0  united states            33  americas        69     Paid Later  Banking   \n",
       "1  united states            45  americas    -18338       Not Paid   Retail   \n",
       "2  united states            35  americas        40     Paid Later   Retail   \n",
       "3  united states            45  americas       113     Paid Later  Banking   \n",
       "4  united states            44  americas        66     Paid Later  Banking   \n",
       "\n",
       "  Customer Account Type Customer Tiering  Customer Employees  \n",
       "0          End Customer        Nationals               14772  \n",
       "1               Partner       Commercial                  67  \n",
       "2          End Customer       Commercial                2992  \n",
       "3          End Customer        Nationals               22899  \n",
       "4          End Customer        Nationals               14243  "
      ]
     },
     "execution_count": 101,
     "metadata": {},
     "output_type": "execute_result"
    }
   ],
   "source": [
    "df2.head()"
   ]
  },
  {
   "cell_type": "code",
   "execution_count": 102,
   "metadata": {},
   "outputs": [
    {
     "data": {
      "text/html": [
       "<div>\n",
       "<style scoped>\n",
       "    .dataframe tbody tr th:only-of-type {\n",
       "        vertical-align: middle;\n",
       "    }\n",
       "\n",
       "    .dataframe tbody tr th {\n",
       "        vertical-align: top;\n",
       "    }\n",
       "\n",
       "    .dataframe thead th {\n",
       "        text-align: right;\n",
       "    }\n",
       "</style>\n",
       "<table border=\"1\" class=\"dataframe\">\n",
       "  <thead>\n",
       "    <tr style=\"text-align: right;\">\n",
       "      <th></th>\n",
       "      <th>Transaction ID</th>\n",
       "      <th>Customer ID</th>\n",
       "      <th>Invoice Date</th>\n",
       "      <th>Payment Date</th>\n",
       "      <th>Invoice Amount</th>\n",
       "      <th>Country</th>\n",
       "      <th>Payment Term</th>\n",
       "      <th>Region</th>\n",
       "      <th>Duration</th>\n",
       "      <th>Payment Status</th>\n",
       "      <th>Industry</th>\n",
       "      <th>Customer Account Type</th>\n",
       "      <th>Customer Tiering</th>\n",
       "      <th>Customer Employees</th>\n",
       "    </tr>\n",
       "  </thead>\n",
       "  <tbody>\n",
       "    <tr>\n",
       "      <th>263279</th>\n",
       "      <td>6200030002</td>\n",
       "      <td>9915819</td>\n",
       "      <td>2020-02-20</td>\n",
       "      <td>2020-03-30</td>\n",
       "      <td>5.282581e+06</td>\n",
       "      <td>united states</td>\n",
       "      <td>30</td>\n",
       "      <td>americas</td>\n",
       "      <td>39</td>\n",
       "      <td>Paid Later</td>\n",
       "      <td>Banking</td>\n",
       "      <td>End Customer</td>\n",
       "      <td>Commercial</td>\n",
       "      <td>856</td>\n",
       "    </tr>\n",
       "    <tr>\n",
       "      <th>218335</th>\n",
       "      <td>6007094314</td>\n",
       "      <td>5386184</td>\n",
       "      <td>2020-03-31</td>\n",
       "      <td>2020-09-25</td>\n",
       "      <td>4.490282e+06</td>\n",
       "      <td>united states</td>\n",
       "      <td>60</td>\n",
       "      <td>americas</td>\n",
       "      <td>178</td>\n",
       "      <td>Paid Later</td>\n",
       "      <td>Retail</td>\n",
       "      <td>End Customer</td>\n",
       "      <td>Nationals</td>\n",
       "      <td>3</td>\n",
       "    </tr>\n",
       "    <tr>\n",
       "      <th>41725</th>\n",
       "      <td>6007089084</td>\n",
       "      <td>27374</td>\n",
       "      <td>2020-03-26</td>\n",
       "      <td>2020-03-28</td>\n",
       "      <td>4.329350e+06</td>\n",
       "      <td>united states</td>\n",
       "      <td>30</td>\n",
       "      <td>americas</td>\n",
       "      <td>2</td>\n",
       "      <td>Paid Early</td>\n",
       "      <td>Banking</td>\n",
       "      <td>End Customer</td>\n",
       "      <td>Nationals</td>\n",
       "      <td>36484</td>\n",
       "    </tr>\n",
       "    <tr>\n",
       "      <th>239828</th>\n",
       "      <td>100463595</td>\n",
       "      <td>9461493</td>\n",
       "      <td>2020-01-17</td>\n",
       "      <td>2020-09-25</td>\n",
       "      <td>4.256952e+06</td>\n",
       "      <td>united states</td>\n",
       "      <td>30</td>\n",
       "      <td>americas</td>\n",
       "      <td>252</td>\n",
       "      <td>Paid Later</td>\n",
       "      <td>Hospitality</td>\n",
       "      <td>End Customer</td>\n",
       "      <td>Nationals</td>\n",
       "      <td>1753</td>\n",
       "    </tr>\n",
       "    <tr>\n",
       "      <th>67009</th>\n",
       "      <td>380426</td>\n",
       "      <td>003070ES</td>\n",
       "      <td>2020-02-28</td>\n",
       "      <td>2020-06-30</td>\n",
       "      <td>4.095971e+06</td>\n",
       "      <td>spain</td>\n",
       "      <td>60</td>\n",
       "      <td>europe</td>\n",
       "      <td>123</td>\n",
       "      <td>Paid Later</td>\n",
       "      <td>Banking</td>\n",
       "      <td>End Customer</td>\n",
       "      <td>Nationals</td>\n",
       "      <td>15558</td>\n",
       "    </tr>\n",
       "    <tr>\n",
       "      <th>...</th>\n",
       "      <td>...</td>\n",
       "      <td>...</td>\n",
       "      <td>...</td>\n",
       "      <td>...</td>\n",
       "      <td>...</td>\n",
       "      <td>...</td>\n",
       "      <td>...</td>\n",
       "      <td>...</td>\n",
       "      <td>...</td>\n",
       "      <td>...</td>\n",
       "      <td>...</td>\n",
       "      <td>...</td>\n",
       "      <td>...</td>\n",
       "      <td>...</td>\n",
       "    </tr>\n",
       "    <tr>\n",
       "      <th>241834</th>\n",
       "      <td>379851</td>\n",
       "      <td>003070ES</td>\n",
       "      <td>2020-11-02</td>\n",
       "      <td>2020-03-02</td>\n",
       "      <td>1.090000e-02</td>\n",
       "      <td>spain</td>\n",
       "      <td>60</td>\n",
       "      <td>europe</td>\n",
       "      <td>-245</td>\n",
       "      <td>Paid Early</td>\n",
       "      <td>Banking</td>\n",
       "      <td>End Customer</td>\n",
       "      <td>Nationals</td>\n",
       "      <td>15558</td>\n",
       "    </tr>\n",
       "    <tr>\n",
       "      <th>114819</th>\n",
       "      <td>379847</td>\n",
       "      <td>003070ES</td>\n",
       "      <td>2020-11-02</td>\n",
       "      <td>2020-03-02</td>\n",
       "      <td>1.090000e-02</td>\n",
       "      <td>spain</td>\n",
       "      <td>60</td>\n",
       "      <td>europe</td>\n",
       "      <td>-245</td>\n",
       "      <td>Paid Early</td>\n",
       "      <td>Banking</td>\n",
       "      <td>End Customer</td>\n",
       "      <td>Nationals</td>\n",
       "      <td>15558</td>\n",
       "    </tr>\n",
       "    <tr>\n",
       "      <th>166387</th>\n",
       "      <td>100475817</td>\n",
       "      <td>7392843</td>\n",
       "      <td>2020-05-16</td>\n",
       "      <td>2020-06-12</td>\n",
       "      <td>1.000000e-02</td>\n",
       "      <td>united states</td>\n",
       "      <td>30</td>\n",
       "      <td>americas</td>\n",
       "      <td>27</td>\n",
       "      <td>Paid Early</td>\n",
       "      <td>Hospitality</td>\n",
       "      <td>End Customer</td>\n",
       "      <td>Commercial</td>\n",
       "      <td>500</td>\n",
       "    </tr>\n",
       "    <tr>\n",
       "      <th>130531</th>\n",
       "      <td>2139171</td>\n",
       "      <td>81002672AU</td>\n",
       "      <td>2020-06-24</td>\n",
       "      <td>1970-01-01</td>\n",
       "      <td>7.000000e-03</td>\n",
       "      <td>australia</td>\n",
       "      <td>30</td>\n",
       "      <td>asia pacific and japan</td>\n",
       "      <td>-18437</td>\n",
       "      <td>Not Paid</td>\n",
       "      <td>Retail</td>\n",
       "      <td>End Customer</td>\n",
       "      <td>Commercial</td>\n",
       "      <td>0</td>\n",
       "    </tr>\n",
       "    <tr>\n",
       "      <th>321709</th>\n",
       "      <td>2139134</td>\n",
       "      <td>81002672AU</td>\n",
       "      <td>2020-06-20</td>\n",
       "      <td>2020-06-30</td>\n",
       "      <td>6.900000e-03</td>\n",
       "      <td>australia</td>\n",
       "      <td>30</td>\n",
       "      <td>asia pacific and japan</td>\n",
       "      <td>10</td>\n",
       "      <td>Paid Early</td>\n",
       "      <td>Retail</td>\n",
       "      <td>End Customer</td>\n",
       "      <td>Commercial</td>\n",
       "      <td>0</td>\n",
       "    </tr>\n",
       "  </tbody>\n",
       "</table>\n",
       "<p>323006 rows × 14 columns</p>\n",
       "</div>"
      ],
      "text/plain": [
       "       Transaction ID Customer ID Invoice Date Payment Date  Invoice Amount  \\\n",
       "263279     6200030002     9915819   2020-02-20   2020-03-30    5.282581e+06   \n",
       "218335     6007094314     5386184   2020-03-31   2020-09-25    4.490282e+06   \n",
       "41725      6007089084       27374   2020-03-26   2020-03-28    4.329350e+06   \n",
       "239828      100463595     9461493   2020-01-17   2020-09-25    4.256952e+06   \n",
       "67009          380426    003070ES   2020-02-28   2020-06-30    4.095971e+06   \n",
       "...               ...         ...          ...          ...             ...   \n",
       "241834         379851    003070ES   2020-11-02   2020-03-02    1.090000e-02   \n",
       "114819         379847    003070ES   2020-11-02   2020-03-02    1.090000e-02   \n",
       "166387      100475817     7392843   2020-05-16   2020-06-12    1.000000e-02   \n",
       "130531        2139171  81002672AU   2020-06-24   1970-01-01    7.000000e-03   \n",
       "321709        2139134  81002672AU   2020-06-20   2020-06-30    6.900000e-03   \n",
       "\n",
       "              Country  Payment Term                  Region  Duration  \\\n",
       "263279  united states            30                americas        39   \n",
       "218335  united states            60                americas       178   \n",
       "41725   united states            30                americas         2   \n",
       "239828  united states            30                americas       252   \n",
       "67009           spain            60                  europe       123   \n",
       "...               ...           ...                     ...       ...   \n",
       "241834          spain            60                  europe      -245   \n",
       "114819          spain            60                  europe      -245   \n",
       "166387  united states            30                americas        27   \n",
       "130531      australia            30  asia pacific and japan    -18437   \n",
       "321709      australia            30  asia pacific and japan        10   \n",
       "\n",
       "       Payment Status     Industry Customer Account Type Customer Tiering  \\\n",
       "263279     Paid Later      Banking          End Customer       Commercial   \n",
       "218335     Paid Later       Retail          End Customer        Nationals   \n",
       "41725      Paid Early      Banking          End Customer        Nationals   \n",
       "239828     Paid Later  Hospitality          End Customer        Nationals   \n",
       "67009      Paid Later      Banking          End Customer        Nationals   \n",
       "...               ...          ...                   ...              ...   \n",
       "241834     Paid Early      Banking          End Customer        Nationals   \n",
       "114819     Paid Early      Banking          End Customer        Nationals   \n",
       "166387     Paid Early  Hospitality          End Customer       Commercial   \n",
       "130531       Not Paid       Retail          End Customer       Commercial   \n",
       "321709     Paid Early       Retail          End Customer       Commercial   \n",
       "\n",
       "        Customer Employees  \n",
       "263279                 856  \n",
       "218335                   3  \n",
       "41725                36484  \n",
       "239828                1753  \n",
       "67009                15558  \n",
       "...                    ...  \n",
       "241834               15558  \n",
       "114819               15558  \n",
       "166387                 500  \n",
       "130531                   0  \n",
       "321709                   0  \n",
       "\n",
       "[323006 rows x 14 columns]"
      ]
     },
     "execution_count": 102,
     "metadata": {},
     "output_type": "execute_result"
    }
   ],
   "source": [
    "# 4.\tIs there a relationship between the total amount a customer spends and how many employees it has?\n",
    "df2.sort_values('Invoice Amount',ascending=False)"
   ]
  },
  {
   "cell_type": "code",
   "execution_count": 104,
   "metadata": {
    "scrolled": true
   },
   "outputs": [
    {
     "data": {
      "text/plain": [
       "<AxesSubplot:xlabel='Month', ylabel='Invoice Amount'>"
      ]
     },
     "execution_count": 104,
     "metadata": {},
     "output_type": "execute_result"
    },
    {
     "data": {
      "image/png": "[encoded data removed]",
      "text/plain": [
       "<Figure size 1080x432 with 1 Axes>"
      ]
     },
     "metadata": {
      "needs_background": "light"
     },
     "output_type": "display_data"
    }
   ],
   "source": [
    "# 5.\tIs there a trend in the amount of cash NCR collects?\n",
    "plt.figure(figsize=(15,6))\n",
    "sns.lineplot(x='Month',y='Invoice Amount',data=temp)#on 6 and 8 th month we have more sales."
   ]
  },
  {
   "cell_type": "markdown",
   "metadata": {},
   "source": [
    "end"
   ]
  },
  {
   "cell_type": "markdown",
   "metadata": {},
   "source": []
  },
  {
   "cell_type": "code",
   "execution_count": null,
   "metadata": {},
   "outputs": [],
   "source": []
  }
 ],
 "metadata": {
  "kernelspec": {
   "display_name": "Python 3",
   "language": "python",
   "name": "python3"
  },
  "language_info": {
   "codemirror_mode": {
    "name": "ipython",
    "version": 3
   },
   "file_extension": ".py",
   "mimetype": "text/x-python",
   "name": "python",
   "nbconvert_exporter": "python",
   "pygments_lexer": "ipython3",
   "version": "3.8.5"
  }
 },
 "nbformat": 4,
 "nbformat_minor": 4
}
